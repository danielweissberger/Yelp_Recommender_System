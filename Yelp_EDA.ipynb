{
 "cells": [
  {
   "cell_type": "code",
   "execution_count": 1,
   "metadata": {},
   "outputs": [],
   "source": [
    "def set_plot_style():\n",
    "    plt.rcParams['axes.edgecolor'] = 'silver'\n",
    "    plt.rcParams['axes.titleweight'] = 'bold'\n",
    "    plt.rcParams['axes.labelweight'] = 'bold'\n",
    "    plt.rcParams['axes.labelweight'] = 'bold'\n",
    "    plt.rcParams['xtick.labelsize'] = 18 \n",
    "    plt.rcParams['ytick.labelsize'] = 18\n",
    "    plt.rcParams['grid.alpha'] = .3 \n",
    "    ax = plt.gca()\n",
    "    ax.set_facecolor((247/255,249/255,247/255))\n",
    "    ax.title.set_position([.5,1.02])\n",
    "    ax.xaxis.labelpad = 10\n",
    "    ax.yaxis.labelpad = 10\n",
    "    ax.grid(False)\n",
    "\n",
    "    \n",
    "\n",
    "def plot_fitted_vs_actual(y_test, y_pred):\n",
    "    \n",
    "    plt.figure(figsize=(16,8))\n",
    "    plt.scatter(y_test, y_pred, alpha=.56, color='#2951a0')\n",
    "    plt.title('Actual Sale Price vs. Predicted Sale Price', fontsize=18)\n",
    "    plt.ylabel('Predicted Sale Price', fontsize=14)\n",
    "    _ = plt.xlabel('Actual Sale Price', fontsize=14)\n",
    "    set_plot_style()\n",
    "    \n",
    "def plot_fitted_vs_resid(y_test, y_pred):\n",
    "    \n",
    "    residuals = [t - p for t, p in zip(y_test, y_pred)]\n",
    "    \n",
    "    plt.figure(figsize=(16,8))\n",
    "    plt.scatter(y_pred, residuals, alpha=.56, color='#2951a0')\n",
    "    plt.title('Residuals vs. Fitted Values', fontsize=18)\n",
    "    plt.ylabel('Residuals', fontsize=14)\n",
    "    _ = plt.xlabel('Fitted Values', fontsize=14)\n",
    "    set_plot_style()\n",
    "    \n",
    "    \n",
    "class gradient:\n",
    "    def __init__(self, initial_color):\n",
    "        self.color=initial_color\n",
    "        self.current_color = initial_color/255\n",
    "        \n",
    "    def get_current_color(self):\n",
    "        self.current_color = self.current_color*.95\n",
    "        return(tuple(self.current_color))"
   ]
  },
  {
   "cell_type": "code",
   "execution_count": 2,
   "metadata": {},
   "outputs": [],
   "source": [
    "import pandas as pd\n",
    "import matplotlib.pyplot as plt\n",
    "import seaborn as sns\n",
    "import numpy as np\n",
    "from numpy import *\n",
    "import math\n",
    "import networkx as nx\n",
    "# from inferential_stats import *\n",
    "from matplotlib.colors import LinearSegmentedColormap\n",
    "import warnings\n",
    "warnings.filterwarnings('ignore')\n",
    "sns.set()"
   ]
  },
  {
   "cell_type": "code",
   "execution_count": 3,
   "metadata": {},
   "outputs": [],
   "source": [
    "business_df = pd.read_csv('data/yelp_business.csv')"
   ]
  },
  {
   "cell_type": "code",
   "execution_count": 4,
   "metadata": {
    "scrolled": false
   },
   "outputs": [
    {
     "data": {
      "text/html": [
       "<div>\n",
       "<style scoped>\n",
       "    .dataframe tbody tr th:only-of-type {\n",
       "        vertical-align: middle;\n",
       "    }\n",
       "\n",
       "    .dataframe tbody tr th {\n",
       "        vertical-align: top;\n",
       "    }\n",
       "\n",
       "    .dataframe thead th {\n",
       "        text-align: right;\n",
       "    }\n",
       "</style>\n",
       "<table border=\"1\" class=\"dataframe\">\n",
       "  <thead>\n",
       "    <tr style=\"text-align: right;\">\n",
       "      <th></th>\n",
       "      <th>business_id</th>\n",
       "      <th>name</th>\n",
       "      <th>neighborhood</th>\n",
       "      <th>address</th>\n",
       "      <th>city</th>\n",
       "      <th>state</th>\n",
       "      <th>postal_code</th>\n",
       "      <th>latitude</th>\n",
       "      <th>longitude</th>\n",
       "      <th>stars</th>\n",
       "      <th>review_count</th>\n",
       "      <th>is_open</th>\n",
       "      <th>categories</th>\n",
       "    </tr>\n",
       "  </thead>\n",
       "  <tbody>\n",
       "    <tr>\n",
       "      <th>0</th>\n",
       "      <td>FYWN1wneV18bWNgQjJ2GNg</td>\n",
       "      <td>\"Dental by Design\"</td>\n",
       "      <td>NaN</td>\n",
       "      <td>\"4855 E Warner Rd, Ste B9\"</td>\n",
       "      <td>Ahwatukee</td>\n",
       "      <td>AZ</td>\n",
       "      <td>85044</td>\n",
       "      <td>33.330690</td>\n",
       "      <td>-111.978599</td>\n",
       "      <td>4.0</td>\n",
       "      <td>22</td>\n",
       "      <td>1</td>\n",
       "      <td>Dentists;General Dentistry;Health &amp; Medical;Or...</td>\n",
       "    </tr>\n",
       "    <tr>\n",
       "      <th>1</th>\n",
       "      <td>He-G7vWjzVUysIKrfNbPUQ</td>\n",
       "      <td>\"Stephen Szabo Salon\"</td>\n",
       "      <td>NaN</td>\n",
       "      <td>\"3101 Washington Rd\"</td>\n",
       "      <td>McMurray</td>\n",
       "      <td>PA</td>\n",
       "      <td>15317</td>\n",
       "      <td>40.291685</td>\n",
       "      <td>-80.104900</td>\n",
       "      <td>3.0</td>\n",
       "      <td>11</td>\n",
       "      <td>1</td>\n",
       "      <td>Hair Stylists;Hair Salons;Men's Hair Salons;Bl...</td>\n",
       "    </tr>\n",
       "    <tr>\n",
       "      <th>2</th>\n",
       "      <td>KQPW8lFf1y5BT2MxiSZ3QA</td>\n",
       "      <td>\"Western Motor Vehicle\"</td>\n",
       "      <td>NaN</td>\n",
       "      <td>\"6025 N 27th Ave, Ste 1\"</td>\n",
       "      <td>Phoenix</td>\n",
       "      <td>AZ</td>\n",
       "      <td>85017</td>\n",
       "      <td>33.524903</td>\n",
       "      <td>-112.115310</td>\n",
       "      <td>1.5</td>\n",
       "      <td>18</td>\n",
       "      <td>1</td>\n",
       "      <td>Departments of Motor Vehicles;Public Services ...</td>\n",
       "    </tr>\n",
       "    <tr>\n",
       "      <th>3</th>\n",
       "      <td>8DShNS-LuFqpEWIp0HxijA</td>\n",
       "      <td>\"Sports Authority\"</td>\n",
       "      <td>NaN</td>\n",
       "      <td>\"5000 Arizona Mills Cr, Ste 435\"</td>\n",
       "      <td>Tempe</td>\n",
       "      <td>AZ</td>\n",
       "      <td>85282</td>\n",
       "      <td>33.383147</td>\n",
       "      <td>-111.964725</td>\n",
       "      <td>3.0</td>\n",
       "      <td>9</td>\n",
       "      <td>0</td>\n",
       "      <td>Sporting Goods;Shopping</td>\n",
       "    </tr>\n",
       "    <tr>\n",
       "      <th>4</th>\n",
       "      <td>PfOCPjBrlQAnz__NXj9h_w</td>\n",
       "      <td>\"Brick House Tavern + Tap\"</td>\n",
       "      <td>NaN</td>\n",
       "      <td>\"581 Howe Ave\"</td>\n",
       "      <td>Cuyahoga Falls</td>\n",
       "      <td>OH</td>\n",
       "      <td>44221</td>\n",
       "      <td>41.119535</td>\n",
       "      <td>-81.475690</td>\n",
       "      <td>3.5</td>\n",
       "      <td>116</td>\n",
       "      <td>1</td>\n",
       "      <td>American (New);Nightlife;Bars;Sandwiches;Ameri...</td>\n",
       "    </tr>\n",
       "  </tbody>\n",
       "</table>\n",
       "</div>"
      ],
      "text/plain": [
       "              business_id                        name neighborhood  \\\n",
       "0  FYWN1wneV18bWNgQjJ2GNg          \"Dental by Design\"          NaN   \n",
       "1  He-G7vWjzVUysIKrfNbPUQ       \"Stephen Szabo Salon\"          NaN   \n",
       "2  KQPW8lFf1y5BT2MxiSZ3QA     \"Western Motor Vehicle\"          NaN   \n",
       "3  8DShNS-LuFqpEWIp0HxijA          \"Sports Authority\"          NaN   \n",
       "4  PfOCPjBrlQAnz__NXj9h_w  \"Brick House Tavern + Tap\"          NaN   \n",
       "\n",
       "                            address            city state postal_code  \\\n",
       "0        \"4855 E Warner Rd, Ste B9\"       Ahwatukee    AZ       85044   \n",
       "1              \"3101 Washington Rd\"        McMurray    PA       15317   \n",
       "2          \"6025 N 27th Ave, Ste 1\"         Phoenix    AZ       85017   \n",
       "3  \"5000 Arizona Mills Cr, Ste 435\"           Tempe    AZ       85282   \n",
       "4                    \"581 Howe Ave\"  Cuyahoga Falls    OH       44221   \n",
       "\n",
       "    latitude   longitude  stars  review_count  is_open  \\\n",
       "0  33.330690 -111.978599    4.0            22        1   \n",
       "1  40.291685  -80.104900    3.0            11        1   \n",
       "2  33.524903 -112.115310    1.5            18        1   \n",
       "3  33.383147 -111.964725    3.0             9        0   \n",
       "4  41.119535  -81.475690    3.5           116        1   \n",
       "\n",
       "                                          categories  \n",
       "0  Dentists;General Dentistry;Health & Medical;Or...  \n",
       "1  Hair Stylists;Hair Salons;Men's Hair Salons;Bl...  \n",
       "2  Departments of Motor Vehicles;Public Services ...  \n",
       "3                            Sporting Goods;Shopping  \n",
       "4  American (New);Nightlife;Bars;Sandwiches;Ameri...  "
      ]
     },
     "execution_count": 4,
     "metadata": {},
     "output_type": "execute_result"
    }
   ],
   "source": [
    "business_df.head()"
   ]
  },
  {
   "cell_type": "code",
   "execution_count": 5,
   "metadata": {},
   "outputs": [],
   "source": [
    "def load_and_reduce_data(file_path, chunksize, reduction_factor):\n",
    "    framelist = []\n",
    "    for chunk in  pd.read_csv(file_path, chunksize=chunksize):\n",
    "        rangelist = list(range(0, chunk.shape[0]))\n",
    "        selection = list(np.random.choice(rangelist, round(chunk.shape[0]/reduction_factor), replace=False))\n",
    "        df = chunk.iloc[selection]\n",
    "        framelist.append(df)\n",
    "\n",
    "    return(pd.concat(framelist))"
   ]
  },
  {
   "cell_type": "code",
   "execution_count": 6,
   "metadata": {},
   "outputs": [],
   "source": [
    "def filter_data_by_ids(filepath, chunksize, att_name, ids):\n",
    "    framelist=[]\n",
    "    for chunk in pd.read_csv(filepath, chunksize=chunksize):\n",
    "        chunk = chunk[chunk[att_name].isin(ids)]\n",
    "        framelist.append(chunk)\n",
    "        \n",
    "    return(pd.concat(framelist))"
   ]
  },
  {
   "cell_type": "code",
   "execution_count": 7,
   "metadata": {},
   "outputs": [],
   "source": [
    "def load_data(file_path, chunksize):\n",
    "    framelist=[]\n",
    "    for chunk in  pd.read_csv(file_path, chunksize=chunksize):\n",
    "        framelist.append(chunk)\n",
    "    return(pd.concat(framelist))"
   ]
  },
  {
   "cell_type": "code",
   "execution_count": 8,
   "metadata": {},
   "outputs": [],
   "source": [
    "business_df = load_data('data/yelp_business.csv', 500)"
   ]
  },
  {
   "cell_type": "code",
   "execution_count": 9,
   "metadata": {},
   "outputs": [],
   "source": [
    "business_attributes_df = load_data('data/yelp_business_attributes.csv', 500)\n",
    "user_df = load_and_reduce_data('data/yelp_user.csv', 2000, 10)"
   ]
  },
  {
   "cell_type": "code",
   "execution_count": 10,
   "metadata": {},
   "outputs": [],
   "source": [
    "review_df = filter_data_by_ids('data/yelp_review.csv', 1000, 'user_id', user_df['user_id'].values)"
   ]
  },
  {
   "cell_type": "code",
   "execution_count": 11,
   "metadata": {},
   "outputs": [],
   "source": [
    "random_business = business_df.iloc[4]"
   ]
  },
  {
   "cell_type": "code",
   "execution_count": 12,
   "metadata": {},
   "outputs": [
    {
     "data": {
      "text/plain": [
       "116"
      ]
     },
     "execution_count": 12,
     "metadata": {},
     "output_type": "execute_result"
    }
   ],
   "source": [
    "random_business.review_count"
   ]
  },
  {
   "cell_type": "code",
   "execution_count": 13,
   "metadata": {},
   "outputs": [
    {
     "data": {
      "text/plain": [
       "array([[ 4,  7],\n",
       "       [ 7,  1],\n",
       "       [10,  9]])"
      ]
     },
     "execution_count": 13,
     "metadata": {},
     "output_type": "execute_result"
    }
   ],
   "source": [
    " r = np.random.RandomState(seed=5)\n",
    "r.random_integers(1, 10, size=(3,2))"
   ]
  },
  {
   "cell_type": "code",
   "execution_count": 14,
   "metadata": {
    "scrolled": false
   },
   "outputs": [
    {
     "data": {
      "image/png": "[encoded data removed]",
      "text/plain": [
       "<Figure size 864x576 with 1 Axes>"
      ]
     },
     "metadata": {
      "needs_background": "light"
     },
     "output_type": "display_data"
    }
   ],
   "source": [
    "plt.figure(figsize=(12, 8))\n",
    "set_plot_style()\n",
    "plt.title('Business Star Rating Distribution', fontsize=18)\n",
    "_ = business_df['stars'].hist()"
   ]
  },
  {
   "cell_type": "markdown",
   "metadata": {},
   "source": [
    "Note the huge gap in reviews, almost no reviews in the 2.5 to 3.0 range. Lets confirm this with a pandas filter:"
   ]
  },
  {
   "cell_type": "code",
   "execution_count": 15,
   "metadata": {},
   "outputs": [
    {
     "data": {
      "text/html": [
       "<div>\n",
       "<style scoped>\n",
       "    .dataframe tbody tr th:only-of-type {\n",
       "        vertical-align: middle;\n",
       "    }\n",
       "\n",
       "    .dataframe tbody tr th {\n",
       "        vertical-align: top;\n",
       "    }\n",
       "\n",
       "    .dataframe thead th {\n",
       "        text-align: right;\n",
       "    }\n",
       "</style>\n",
       "<table border=\"1\" class=\"dataframe\">\n",
       "  <thead>\n",
       "    <tr style=\"text-align: right;\">\n",
       "      <th></th>\n",
       "      <th>business_id</th>\n",
       "      <th>name</th>\n",
       "      <th>neighborhood</th>\n",
       "      <th>address</th>\n",
       "      <th>city</th>\n",
       "      <th>state</th>\n",
       "      <th>postal_code</th>\n",
       "      <th>latitude</th>\n",
       "      <th>longitude</th>\n",
       "      <th>stars</th>\n",
       "      <th>review_count</th>\n",
       "      <th>is_open</th>\n",
       "      <th>categories</th>\n",
       "    </tr>\n",
       "  </thead>\n",
       "  <tbody>\n",
       "  </tbody>\n",
       "</table>\n",
       "</div>"
      ],
      "text/plain": [
       "Empty DataFrame\n",
       "Columns: [business_id, name, neighborhood, address, city, state, postal_code, latitude, longitude, stars, review_count, is_open, categories]\n",
       "Index: []"
      ]
     },
     "execution_count": 15,
     "metadata": {},
     "output_type": "execute_result"
    }
   ],
   "source": [
    "rating_gap = business_df[(business_df['stars'] < 3.0) & (business_df['stars'] > 2.6)]\n",
    "rating_gap.head()"
   ]
  },
  {
   "cell_type": "code",
   "execution_count": 16,
   "metadata": {},
   "outputs": [
    {
     "data": {
      "image/png": "[encoded data removed]",
      "text/plain": [
       "<Figure size 864x576 with 1 Axes>"
      ]
     },
     "metadata": {
      "needs_background": "light"
     },
     "output_type": "display_data"
    }
   ],
   "source": [
    "plt.figure(figsize=(12, 8))\n",
    "set_plot_style()\n",
    "plt.ylim(0, 25000)\n",
    "plt.xlim(0, 40)\n",
    "plt.xticks(range(0,40,2))\n",
    "plt.title('User Review Count Distribution')\n",
    "_ = user_df['review_count'].hist(bins=list(range(0,40)))"
   ]
  },
  {
   "cell_type": "code",
   "execution_count": 17,
   "metadata": {},
   "outputs": [],
   "source": [
    "business_attributes_df = load_data('data/yelp_business_attributes.csv', 500)"
   ]
  },
  {
   "cell_type": "code",
   "execution_count": 18,
   "metadata": {},
   "outputs": [
    {
     "data": {
      "text/html": [
       "<div>\n",
       "<style scoped>\n",
       "    .dataframe tbody tr th:only-of-type {\n",
       "        vertical-align: middle;\n",
       "    }\n",
       "\n",
       "    .dataframe tbody tr th {\n",
       "        vertical-align: top;\n",
       "    }\n",
       "\n",
       "    .dataframe thead th {\n",
       "        text-align: right;\n",
       "    }\n",
       "</style>\n",
       "<table border=\"1\" class=\"dataframe\">\n",
       "  <thead>\n",
       "    <tr style=\"text-align: right;\">\n",
       "      <th></th>\n",
       "      <th>business_id</th>\n",
       "      <th>AcceptsInsurance</th>\n",
       "      <th>ByAppointmentOnly</th>\n",
       "      <th>BusinessAcceptsCreditCards</th>\n",
       "      <th>BusinessParking_garage</th>\n",
       "      <th>BusinessParking_street</th>\n",
       "      <th>BusinessParking_validated</th>\n",
       "      <th>BusinessParking_lot</th>\n",
       "      <th>BusinessParking_valet</th>\n",
       "      <th>HairSpecializesIn_coloring</th>\n",
       "      <th>...</th>\n",
       "      <th>Corkage</th>\n",
       "      <th>DietaryRestrictions_dairy-free</th>\n",
       "      <th>DietaryRestrictions_gluten-free</th>\n",
       "      <th>DietaryRestrictions_vegan</th>\n",
       "      <th>DietaryRestrictions_kosher</th>\n",
       "      <th>DietaryRestrictions_halal</th>\n",
       "      <th>DietaryRestrictions_soy-free</th>\n",
       "      <th>DietaryRestrictions_vegetarian</th>\n",
       "      <th>AgesAllowed</th>\n",
       "      <th>RestaurantsCounterService</th>\n",
       "    </tr>\n",
       "  </thead>\n",
       "  <tbody>\n",
       "    <tr>\n",
       "      <th>0</th>\n",
       "      <td>FYWN1wneV18bWNgQjJ2GNg</td>\n",
       "      <td>Na</td>\n",
       "      <td>Na</td>\n",
       "      <td>Na</td>\n",
       "      <td>True</td>\n",
       "      <td>Na</td>\n",
       "      <td>Na</td>\n",
       "      <td>Na</td>\n",
       "      <td>Na</td>\n",
       "      <td>Na</td>\n",
       "      <td>...</td>\n",
       "      <td>Na</td>\n",
       "      <td>Na</td>\n",
       "      <td>Na</td>\n",
       "      <td>Na</td>\n",
       "      <td>Na</td>\n",
       "      <td>Na</td>\n",
       "      <td>Na</td>\n",
       "      <td>Na</td>\n",
       "      <td>Na</td>\n",
       "      <td>Na</td>\n",
       "    </tr>\n",
       "    <tr>\n",
       "      <th>1</th>\n",
       "      <td>He-G7vWjzVUysIKrfNbPUQ</td>\n",
       "      <td>Na</td>\n",
       "      <td>Na</td>\n",
       "      <td>Na</td>\n",
       "      <td>Na</td>\n",
       "      <td>Na</td>\n",
       "      <td>Na</td>\n",
       "      <td>Na</td>\n",
       "      <td>Na</td>\n",
       "      <td>Na</td>\n",
       "      <td>...</td>\n",
       "      <td>Na</td>\n",
       "      <td>Na</td>\n",
       "      <td>Na</td>\n",
       "      <td>Na</td>\n",
       "      <td>Na</td>\n",
       "      <td>Na</td>\n",
       "      <td>Na</td>\n",
       "      <td>Na</td>\n",
       "      <td>Na</td>\n",
       "      <td>Na</td>\n",
       "    </tr>\n",
       "    <tr>\n",
       "      <th>2</th>\n",
       "      <td>8DShNS-LuFqpEWIp0HxijA</td>\n",
       "      <td>Na</td>\n",
       "      <td>Na</td>\n",
       "      <td>Na</td>\n",
       "      <td>Na</td>\n",
       "      <td>Na</td>\n",
       "      <td>Na</td>\n",
       "      <td>Na</td>\n",
       "      <td>Na</td>\n",
       "      <td>Na</td>\n",
       "      <td>...</td>\n",
       "      <td>Na</td>\n",
       "      <td>Na</td>\n",
       "      <td>Na</td>\n",
       "      <td>Na</td>\n",
       "      <td>Na</td>\n",
       "      <td>Na</td>\n",
       "      <td>Na</td>\n",
       "      <td>Na</td>\n",
       "      <td>Na</td>\n",
       "      <td>Na</td>\n",
       "    </tr>\n",
       "    <tr>\n",
       "      <th>3</th>\n",
       "      <td>PfOCPjBrlQAnz__NXj9h_w</td>\n",
       "      <td>Na</td>\n",
       "      <td>Na</td>\n",
       "      <td>Na</td>\n",
       "      <td>Na</td>\n",
       "      <td>Na</td>\n",
       "      <td>Na</td>\n",
       "      <td>Na</td>\n",
       "      <td>Na</td>\n",
       "      <td>Na</td>\n",
       "      <td>...</td>\n",
       "      <td>Na</td>\n",
       "      <td>Na</td>\n",
       "      <td>Na</td>\n",
       "      <td>Na</td>\n",
       "      <td>Na</td>\n",
       "      <td>Na</td>\n",
       "      <td>Na</td>\n",
       "      <td>Na</td>\n",
       "      <td>Na</td>\n",
       "      <td>Na</td>\n",
       "    </tr>\n",
       "    <tr>\n",
       "      <th>4</th>\n",
       "      <td>o9eMRCWt5PkpLDE0gOPtcQ</td>\n",
       "      <td>Na</td>\n",
       "      <td>Na</td>\n",
       "      <td>Na</td>\n",
       "      <td>Na</td>\n",
       "      <td>False</td>\n",
       "      <td>False</td>\n",
       "      <td>False</td>\n",
       "      <td>False</td>\n",
       "      <td>False</td>\n",
       "      <td>...</td>\n",
       "      <td>Na</td>\n",
       "      <td>Na</td>\n",
       "      <td>Na</td>\n",
       "      <td>Na</td>\n",
       "      <td>Na</td>\n",
       "      <td>Na</td>\n",
       "      <td>Na</td>\n",
       "      <td>Na</td>\n",
       "      <td>Na</td>\n",
       "      <td>Na</td>\n",
       "    </tr>\n",
       "    <tr>\n",
       "      <th>5</th>\n",
       "      <td>kCoE3jvEtg6UVz5SOD3GVw</td>\n",
       "      <td>Na</td>\n",
       "      <td>Na</td>\n",
       "      <td>False</td>\n",
       "      <td>Na</td>\n",
       "      <td>Na</td>\n",
       "      <td>Na</td>\n",
       "      <td>Na</td>\n",
       "      <td>Na</td>\n",
       "      <td>Na</td>\n",
       "      <td>...</td>\n",
       "      <td>Na</td>\n",
       "      <td>Na</td>\n",
       "      <td>Na</td>\n",
       "      <td>Na</td>\n",
       "      <td>Na</td>\n",
       "      <td>Na</td>\n",
       "      <td>Na</td>\n",
       "      <td>Na</td>\n",
       "      <td>Na</td>\n",
       "      <td>Na</td>\n",
       "    </tr>\n",
       "    <tr>\n",
       "      <th>6</th>\n",
       "      <td>OD2hnuuTJI9uotcKycxg1A</td>\n",
       "      <td>Na</td>\n",
       "      <td>Na</td>\n",
       "      <td>Na</td>\n",
       "      <td>Na</td>\n",
       "      <td>Na</td>\n",
       "      <td>Na</td>\n",
       "      <td>Na</td>\n",
       "      <td>Na</td>\n",
       "      <td>Na</td>\n",
       "      <td>...</td>\n",
       "      <td>Na</td>\n",
       "      <td>Na</td>\n",
       "      <td>Na</td>\n",
       "      <td>Na</td>\n",
       "      <td>Na</td>\n",
       "      <td>Na</td>\n",
       "      <td>Na</td>\n",
       "      <td>Na</td>\n",
       "      <td>Na</td>\n",
       "      <td>Na</td>\n",
       "    </tr>\n",
       "    <tr>\n",
       "      <th>7</th>\n",
       "      <td>EsMcGiZaQuG1OOvL9iUFug</td>\n",
       "      <td>Na</td>\n",
       "      <td>Na</td>\n",
       "      <td>Na</td>\n",
       "      <td>Na</td>\n",
       "      <td>Na</td>\n",
       "      <td>Na</td>\n",
       "      <td>Na</td>\n",
       "      <td>Na</td>\n",
       "      <td>Na</td>\n",
       "      <td>...</td>\n",
       "      <td>Na</td>\n",
       "      <td>Na</td>\n",
       "      <td>Na</td>\n",
       "      <td>Na</td>\n",
       "      <td>Na</td>\n",
       "      <td>Na</td>\n",
       "      <td>Na</td>\n",
       "      <td>Na</td>\n",
       "      <td>Na</td>\n",
       "      <td>Na</td>\n",
       "    </tr>\n",
       "    <tr>\n",
       "      <th>8</th>\n",
       "      <td>TGWhGNusxyMaA4kQVBNeew</td>\n",
       "      <td>Na</td>\n",
       "      <td>Na</td>\n",
       "      <td>Na</td>\n",
       "      <td>True</td>\n",
       "      <td>Na</td>\n",
       "      <td>Na</td>\n",
       "      <td>Na</td>\n",
       "      <td>Na</td>\n",
       "      <td>Na</td>\n",
       "      <td>...</td>\n",
       "      <td>Na</td>\n",
       "      <td>Na</td>\n",
       "      <td>Na</td>\n",
       "      <td>Na</td>\n",
       "      <td>Na</td>\n",
       "      <td>Na</td>\n",
       "      <td>Na</td>\n",
       "      <td>Na</td>\n",
       "      <td>Na</td>\n",
       "      <td>Na</td>\n",
       "    </tr>\n",
       "    <tr>\n",
       "      <th>9</th>\n",
       "      <td>XOSRcvtaKc_Q5H1SAzN20A</td>\n",
       "      <td>Na</td>\n",
       "      <td>Na</td>\n",
       "      <td>Na</td>\n",
       "      <td>Na</td>\n",
       "      <td>False</td>\n",
       "      <td>False</td>\n",
       "      <td>False</td>\n",
       "      <td>True</td>\n",
       "      <td>False</td>\n",
       "      <td>...</td>\n",
       "      <td>Na</td>\n",
       "      <td>Na</td>\n",
       "      <td>Na</td>\n",
       "      <td>Na</td>\n",
       "      <td>Na</td>\n",
       "      <td>Na</td>\n",
       "      <td>Na</td>\n",
       "      <td>Na</td>\n",
       "      <td>Na</td>\n",
       "      <td>Na</td>\n",
       "    </tr>\n",
       "    <tr>\n",
       "      <th>10</th>\n",
       "      <td>Y0eMNa5C-YU1RQOZf9XvVA</td>\n",
       "      <td>Na</td>\n",
       "      <td>Na</td>\n",
       "      <td>Na</td>\n",
       "      <td>True</td>\n",
       "      <td>Na</td>\n",
       "      <td>Na</td>\n",
       "      <td>Na</td>\n",
       "      <td>Na</td>\n",
       "      <td>Na</td>\n",
       "      <td>...</td>\n",
       "      <td>Na</td>\n",
       "      <td>Na</td>\n",
       "      <td>Na</td>\n",
       "      <td>Na</td>\n",
       "      <td>Na</td>\n",
       "      <td>Na</td>\n",
       "      <td>Na</td>\n",
       "      <td>Na</td>\n",
       "      <td>Na</td>\n",
       "      <td>Na</td>\n",
       "    </tr>\n",
       "    <tr>\n",
       "      <th>11</th>\n",
       "      <td>xcgFnd-MwkZeO5G2HQ0gAQ</td>\n",
       "      <td>Na</td>\n",
       "      <td>Na</td>\n",
       "      <td>Na</td>\n",
       "      <td>Na</td>\n",
       "      <td>Na</td>\n",
       "      <td>Na</td>\n",
       "      <td>Na</td>\n",
       "      <td>Na</td>\n",
       "      <td>Na</td>\n",
       "      <td>...</td>\n",
       "      <td>Na</td>\n",
       "      <td>Na</td>\n",
       "      <td>Na</td>\n",
       "      <td>Na</td>\n",
       "      <td>Na</td>\n",
       "      <td>Na</td>\n",
       "      <td>Na</td>\n",
       "      <td>Na</td>\n",
       "      <td>Na</td>\n",
       "      <td>Na</td>\n",
       "    </tr>\n",
       "  </tbody>\n",
       "</table>\n",
       "<p>12 rows × 82 columns</p>\n",
       "</div>"
      ],
      "text/plain": [
       "               business_id AcceptsInsurance ByAppointmentOnly  \\\n",
       "0   FYWN1wneV18bWNgQjJ2GNg               Na                Na   \n",
       "1   He-G7vWjzVUysIKrfNbPUQ               Na                Na   \n",
       "2   8DShNS-LuFqpEWIp0HxijA               Na                Na   \n",
       "3   PfOCPjBrlQAnz__NXj9h_w               Na                Na   \n",
       "4   o9eMRCWt5PkpLDE0gOPtcQ               Na                Na   \n",
       "5   kCoE3jvEtg6UVz5SOD3GVw               Na                Na   \n",
       "6   OD2hnuuTJI9uotcKycxg1A               Na                Na   \n",
       "7   EsMcGiZaQuG1OOvL9iUFug               Na                Na   \n",
       "8   TGWhGNusxyMaA4kQVBNeew               Na                Na   \n",
       "9   XOSRcvtaKc_Q5H1SAzN20A               Na                Na   \n",
       "10  Y0eMNa5C-YU1RQOZf9XvVA               Na                Na   \n",
       "11  xcgFnd-MwkZeO5G2HQ0gAQ               Na                Na   \n",
       "\n",
       "   BusinessAcceptsCreditCards BusinessParking_garage BusinessParking_street  \\\n",
       "0                          Na                   True                     Na   \n",
       "1                          Na                     Na                     Na   \n",
       "2                          Na                     Na                     Na   \n",
       "3                          Na                     Na                     Na   \n",
       "4                          Na                     Na                  False   \n",
       "5                       False                     Na                     Na   \n",
       "6                          Na                     Na                     Na   \n",
       "7                          Na                     Na                     Na   \n",
       "8                          Na                   True                     Na   \n",
       "9                          Na                     Na                  False   \n",
       "10                         Na                   True                     Na   \n",
       "11                         Na                     Na                     Na   \n",
       "\n",
       "   BusinessParking_validated BusinessParking_lot BusinessParking_valet  \\\n",
       "0                         Na                  Na                    Na   \n",
       "1                         Na                  Na                    Na   \n",
       "2                         Na                  Na                    Na   \n",
       "3                         Na                  Na                    Na   \n",
       "4                      False               False                 False   \n",
       "5                         Na                  Na                    Na   \n",
       "6                         Na                  Na                    Na   \n",
       "7                         Na                  Na                    Na   \n",
       "8                         Na                  Na                    Na   \n",
       "9                      False               False                  True   \n",
       "10                        Na                  Na                    Na   \n",
       "11                        Na                  Na                    Na   \n",
       "\n",
       "   HairSpecializesIn_coloring            ...            Corkage  \\\n",
       "0                          Na            ...                 Na   \n",
       "1                          Na            ...                 Na   \n",
       "2                          Na            ...                 Na   \n",
       "3                          Na            ...                 Na   \n",
       "4                       False            ...                 Na   \n",
       "5                          Na            ...                 Na   \n",
       "6                          Na            ...                 Na   \n",
       "7                          Na            ...                 Na   \n",
       "8                          Na            ...                 Na   \n",
       "9                       False            ...                 Na   \n",
       "10                         Na            ...                 Na   \n",
       "11                         Na            ...                 Na   \n",
       "\n",
       "   DietaryRestrictions_dairy-free DietaryRestrictions_gluten-free  \\\n",
       "0                              Na                              Na   \n",
       "1                              Na                              Na   \n",
       "2                              Na                              Na   \n",
       "3                              Na                              Na   \n",
       "4                              Na                              Na   \n",
       "5                              Na                              Na   \n",
       "6                              Na                              Na   \n",
       "7                              Na                              Na   \n",
       "8                              Na                              Na   \n",
       "9                              Na                              Na   \n",
       "10                             Na                              Na   \n",
       "11                             Na                              Na   \n",
       "\n",
       "   DietaryRestrictions_vegan DietaryRestrictions_kosher  \\\n",
       "0                         Na                         Na   \n",
       "1                         Na                         Na   \n",
       "2                         Na                         Na   \n",
       "3                         Na                         Na   \n",
       "4                         Na                         Na   \n",
       "5                         Na                         Na   \n",
       "6                         Na                         Na   \n",
       "7                         Na                         Na   \n",
       "8                         Na                         Na   \n",
       "9                         Na                         Na   \n",
       "10                        Na                         Na   \n",
       "11                        Na                         Na   \n",
       "\n",
       "   DietaryRestrictions_halal DietaryRestrictions_soy-free  \\\n",
       "0                         Na                           Na   \n",
       "1                         Na                           Na   \n",
       "2                         Na                           Na   \n",
       "3                         Na                           Na   \n",
       "4                         Na                           Na   \n",
       "5                         Na                           Na   \n",
       "6                         Na                           Na   \n",
       "7                         Na                           Na   \n",
       "8                         Na                           Na   \n",
       "9                         Na                           Na   \n",
       "10                        Na                           Na   \n",
       "11                        Na                           Na   \n",
       "\n",
       "   DietaryRestrictions_vegetarian AgesAllowed RestaurantsCounterService  \n",
       "0                              Na          Na                        Na  \n",
       "1                              Na          Na                        Na  \n",
       "2                              Na          Na                        Na  \n",
       "3                              Na          Na                        Na  \n",
       "4                              Na          Na                        Na  \n",
       "5                              Na          Na                        Na  \n",
       "6                              Na          Na                        Na  \n",
       "7                              Na          Na                        Na  \n",
       "8                              Na          Na                        Na  \n",
       "9                              Na          Na                        Na  \n",
       "10                             Na          Na                        Na  \n",
       "11                             Na          Na                        Na  \n",
       "\n",
       "[12 rows x 82 columns]"
      ]
     },
     "execution_count": 18,
     "metadata": {},
     "output_type": "execute_result"
    }
   ],
   "source": [
    "business_attributes_df.head(12)"
   ]
  },
  {
   "cell_type": "code",
   "execution_count": 19,
   "metadata": {},
   "outputs": [],
   "source": [
    "restaurants_df = business_df[business_df['categories'].str.contains('Restaurant')]"
   ]
  },
  {
   "cell_type": "code",
   "execution_count": 20,
   "metadata": {},
   "outputs": [
    {
     "data": {
      "image/png": "[encoded data removed]",
      "text/plain": [
       "<Figure size 864x576 with 1 Axes>"
      ]
     },
     "metadata": {
      "needs_background": "light"
     },
     "output_type": "display_data"
    }
   ],
   "source": [
    "plt.figure(figsize=(12, 8))\n",
    "set_plot_style()\n",
    "plt.ylim(0, 25000)\n",
    "plt.xlim(0, 100)\n",
    "plt.xticks(range(0,100,10))\n",
    "plt.title('Restaurant Review Count Distribution')\n",
    "_ = restaurants_df['review_count'].hist(bins=list(range(0,100,10)))"
   ]
  },
  {
   "cell_type": "code",
   "execution_count": 21,
   "metadata": {},
   "outputs": [
    {
     "data": {
      "text/html": [
       "<div>\n",
       "<style scoped>\n",
       "    .dataframe tbody tr th:only-of-type {\n",
       "        vertical-align: middle;\n",
       "    }\n",
       "\n",
       "    .dataframe tbody tr th {\n",
       "        vertical-align: top;\n",
       "    }\n",
       "\n",
       "    .dataframe thead th {\n",
       "        text-align: right;\n",
       "    }\n",
       "</style>\n",
       "<table border=\"1\" class=\"dataframe\">\n",
       "  <thead>\n",
       "    <tr style=\"text-align: right;\">\n",
       "      <th></th>\n",
       "      <th>user_id</th>\n",
       "      <th>name</th>\n",
       "      <th>review_count</th>\n",
       "      <th>yelping_since</th>\n",
       "      <th>friends</th>\n",
       "      <th>useful</th>\n",
       "      <th>funny</th>\n",
       "      <th>cool</th>\n",
       "      <th>fans</th>\n",
       "      <th>elite</th>\n",
       "      <th>...</th>\n",
       "      <th>compliment_more</th>\n",
       "      <th>compliment_profile</th>\n",
       "      <th>compliment_cute</th>\n",
       "      <th>compliment_list</th>\n",
       "      <th>compliment_note</th>\n",
       "      <th>compliment_plain</th>\n",
       "      <th>compliment_cool</th>\n",
       "      <th>compliment_funny</th>\n",
       "      <th>compliment_writer</th>\n",
       "      <th>compliment_photos</th>\n",
       "    </tr>\n",
       "  </thead>\n",
       "  <tbody>\n",
       "    <tr>\n",
       "      <th>1534</th>\n",
       "      <td>R2Y161LYTv74iJRQ4tH9Yw</td>\n",
       "      <td>Rob</td>\n",
       "      <td>13</td>\n",
       "      <td>2011-09-01</td>\n",
       "      <td>p3P2XVzO8aSPGL0xGEHBCA, 8gO5GPyZZgtpouv1pmPprA...</td>\n",
       "      <td>0</td>\n",
       "      <td>0</td>\n",
       "      <td>0</td>\n",
       "      <td>1</td>\n",
       "      <td>None</td>\n",
       "      <td>...</td>\n",
       "      <td>1</td>\n",
       "      <td>0</td>\n",
       "      <td>0</td>\n",
       "      <td>0</td>\n",
       "      <td>0</td>\n",
       "      <td>0</td>\n",
       "      <td>1</td>\n",
       "      <td>1</td>\n",
       "      <td>0</td>\n",
       "      <td>0</td>\n",
       "    </tr>\n",
       "    <tr>\n",
       "      <th>1215</th>\n",
       "      <td>919VXfbGCsWAqZtb2W9cmA</td>\n",
       "      <td>Robert</td>\n",
       "      <td>2</td>\n",
       "      <td>2009-06-06</td>\n",
       "      <td>Mftr8ylqXCWxPINP4h-Cxg, ybgvv-cNl-DKhIUNjsQCfA...</td>\n",
       "      <td>2</td>\n",
       "      <td>0</td>\n",
       "      <td>0</td>\n",
       "      <td>0</td>\n",
       "      <td>None</td>\n",
       "      <td>...</td>\n",
       "      <td>0</td>\n",
       "      <td>0</td>\n",
       "      <td>0</td>\n",
       "      <td>0</td>\n",
       "      <td>0</td>\n",
       "      <td>0</td>\n",
       "      <td>0</td>\n",
       "      <td>0</td>\n",
       "      <td>0</td>\n",
       "      <td>0</td>\n",
       "    </tr>\n",
       "    <tr>\n",
       "      <th>1174</th>\n",
       "      <td>g-E-7BgTl9fA5wkRf4q17g</td>\n",
       "      <td>Jeffrey</td>\n",
       "      <td>2</td>\n",
       "      <td>2010-11-18</td>\n",
       "      <td>rdmhE3c6Tx1nUAz7lwAZcQ, QRNrZdF0D0dgAgONpTRn9g...</td>\n",
       "      <td>0</td>\n",
       "      <td>0</td>\n",
       "      <td>2</td>\n",
       "      <td>0</td>\n",
       "      <td>None</td>\n",
       "      <td>...</td>\n",
       "      <td>0</td>\n",
       "      <td>0</td>\n",
       "      <td>0</td>\n",
       "      <td>0</td>\n",
       "      <td>1</td>\n",
       "      <td>0</td>\n",
       "      <td>0</td>\n",
       "      <td>0</td>\n",
       "      <td>0</td>\n",
       "      <td>0</td>\n",
       "    </tr>\n",
       "    <tr>\n",
       "      <th>1500</th>\n",
       "      <td>ZAhWnYPng4CVsqa8ktslLQ</td>\n",
       "      <td>Lorna</td>\n",
       "      <td>67</td>\n",
       "      <td>2009-09-22</td>\n",
       "      <td>9urF3iDii6n-hrDM4WXDtA, K5t1yjOc5HPi_rwkCptemA...</td>\n",
       "      <td>82</td>\n",
       "      <td>12</td>\n",
       "      <td>2</td>\n",
       "      <td>4</td>\n",
       "      <td>None</td>\n",
       "      <td>...</td>\n",
       "      <td>0</td>\n",
       "      <td>0</td>\n",
       "      <td>0</td>\n",
       "      <td>0</td>\n",
       "      <td>0</td>\n",
       "      <td>3</td>\n",
       "      <td>1</td>\n",
       "      <td>1</td>\n",
       "      <td>0</td>\n",
       "      <td>0</td>\n",
       "    </tr>\n",
       "    <tr>\n",
       "      <th>963</th>\n",
       "      <td>pspoAHgIcQu49Q8zS_aB2Q</td>\n",
       "      <td>Meli</td>\n",
       "      <td>4</td>\n",
       "      <td>2016-04-23</td>\n",
       "      <td>RUjh73zaqjyXrH5gm-PlOQ, Hj-yc5OFxX9Uoi8qQCKVrQ...</td>\n",
       "      <td>4</td>\n",
       "      <td>1</td>\n",
       "      <td>0</td>\n",
       "      <td>0</td>\n",
       "      <td>None</td>\n",
       "      <td>...</td>\n",
       "      <td>0</td>\n",
       "      <td>0</td>\n",
       "      <td>0</td>\n",
       "      <td>0</td>\n",
       "      <td>0</td>\n",
       "      <td>0</td>\n",
       "      <td>0</td>\n",
       "      <td>0</td>\n",
       "      <td>0</td>\n",
       "      <td>0</td>\n",
       "    </tr>\n",
       "  </tbody>\n",
       "</table>\n",
       "<p>5 rows × 22 columns</p>\n",
       "</div>"
      ],
      "text/plain": [
       "                     user_id     name  review_count yelping_since  \\\n",
       "1534  R2Y161LYTv74iJRQ4tH9Yw      Rob            13    2011-09-01   \n",
       "1215  919VXfbGCsWAqZtb2W9cmA   Robert             2    2009-06-06   \n",
       "1174  g-E-7BgTl9fA5wkRf4q17g  Jeffrey             2    2010-11-18   \n",
       "1500  ZAhWnYPng4CVsqa8ktslLQ    Lorna            67    2009-09-22   \n",
       "963   pspoAHgIcQu49Q8zS_aB2Q     Meli             4    2016-04-23   \n",
       "\n",
       "                                                friends  useful  funny  cool  \\\n",
       "1534  p3P2XVzO8aSPGL0xGEHBCA, 8gO5GPyZZgtpouv1pmPprA...       0      0     0   \n",
       "1215  Mftr8ylqXCWxPINP4h-Cxg, ybgvv-cNl-DKhIUNjsQCfA...       2      0     0   \n",
       "1174  rdmhE3c6Tx1nUAz7lwAZcQ, QRNrZdF0D0dgAgONpTRn9g...       0      0     2   \n",
       "1500  9urF3iDii6n-hrDM4WXDtA, K5t1yjOc5HPi_rwkCptemA...      82     12     2   \n",
       "963   RUjh73zaqjyXrH5gm-PlOQ, Hj-yc5OFxX9Uoi8qQCKVrQ...       4      1     0   \n",
       "\n",
       "      fans elite        ...          compliment_more  compliment_profile  \\\n",
       "1534     1  None        ...                        1                   0   \n",
       "1215     0  None        ...                        0                   0   \n",
       "1174     0  None        ...                        0                   0   \n",
       "1500     4  None        ...                        0                   0   \n",
       "963      0  None        ...                        0                   0   \n",
       "\n",
       "      compliment_cute  compliment_list  compliment_note  compliment_plain  \\\n",
       "1534                0                0                0                 0   \n",
       "1215                0                0                0                 0   \n",
       "1174                0                0                1                 0   \n",
       "1500                0                0                0                 3   \n",
       "963                 0                0                0                 0   \n",
       "\n",
       "      compliment_cool  compliment_funny  compliment_writer  compliment_photos  \n",
       "1534                1                 1                  0                  0  \n",
       "1215                0                 0                  0                  0  \n",
       "1174                0                 0                  0                  0  \n",
       "1500                1                 1                  0                  0  \n",
       "963                 0                 0                  0                  0  \n",
       "\n",
       "[5 rows x 22 columns]"
      ]
     },
     "execution_count": 21,
     "metadata": {},
     "output_type": "execute_result"
    }
   ],
   "source": [
    "user_df.head()"
   ]
  },
  {
   "cell_type": "code",
   "execution_count": 22,
   "metadata": {},
   "outputs": [],
   "source": [
    "best_users = user_df.sort_values(['review_count'], ascending=False).iloc[0:20]"
   ]
  },
  {
   "cell_type": "code",
   "execution_count": 23,
   "metadata": {},
   "outputs": [],
   "source": [
    "best_user_reviews = review_df[review_df['user_id'].isin(best_users['user_id'].values)]"
   ]
  },
  {
   "cell_type": "code",
   "execution_count": 24,
   "metadata": {},
   "outputs": [
    {
     "data": {
      "text/html": [
       "<div>\n",
       "<style scoped>\n",
       "    .dataframe tbody tr th:only-of-type {\n",
       "        vertical-align: middle;\n",
       "    }\n",
       "\n",
       "    .dataframe tbody tr th {\n",
       "        vertical-align: top;\n",
       "    }\n",
       "\n",
       "    .dataframe thead th {\n",
       "        text-align: right;\n",
       "    }\n",
       "</style>\n",
       "<table border=\"1\" class=\"dataframe\">\n",
       "  <thead>\n",
       "    <tr style=\"text-align: right;\">\n",
       "      <th></th>\n",
       "      <th>review_id</th>\n",
       "      <th>user_id</th>\n",
       "      <th>business_id</th>\n",
       "      <th>stars</th>\n",
       "      <th>date</th>\n",
       "      <th>text</th>\n",
       "      <th>useful</th>\n",
       "      <th>funny</th>\n",
       "      <th>cool</th>\n",
       "    </tr>\n",
       "  </thead>\n",
       "  <tbody>\n",
       "    <tr>\n",
       "      <th>169118</th>\n",
       "      <td>pNocrNRDjQMarlj1MBLaxw</td>\n",
       "      <td>NOUfyJW-BAo_-Cbfo8edww</td>\n",
       "      <td>I8pcOpgsZOPdkg2sV73hiw</td>\n",
       "      <td>5</td>\n",
       "      <td>2008-08-08</td>\n",
       "      <td>My aunt took me to Mount Pleasant Cemetery on ...</td>\n",
       "      <td>4</td>\n",
       "      <td>3</td>\n",
       "      <td>7</td>\n",
       "    </tr>\n",
       "    <tr>\n",
       "      <th>169119</th>\n",
       "      <td>OZAcCSzrpE1ISwjbtbcg4Q</td>\n",
       "      <td>NOUfyJW-BAo_-Cbfo8edww</td>\n",
       "      <td>8KkyDoWrqOeZb--qUtNwjQ</td>\n",
       "      <td>4</td>\n",
       "      <td>2008-08-12</td>\n",
       "      <td>Posh and exclusive, HR is Canada's premiere de...</td>\n",
       "      <td>7</td>\n",
       "      <td>3</td>\n",
       "      <td>7</td>\n",
       "    </tr>\n",
       "    <tr>\n",
       "      <th>273199</th>\n",
       "      <td>kCmiDNweNQKrymDCKVrJcQ</td>\n",
       "      <td>Ve0LUwcrzxL7w0RYgY4Aaw</td>\n",
       "      <td>KOQw4e1rwCY5e0RnmB5rgQ</td>\n",
       "      <td>3</td>\n",
       "      <td>2012-10-14</td>\n",
       "      <td>This place is such a dive that it's awesome. I...</td>\n",
       "      <td>7</td>\n",
       "      <td>2</td>\n",
       "      <td>5</td>\n",
       "    </tr>\n",
       "    <tr>\n",
       "      <th>273200</th>\n",
       "      <td>wri7ReZp9URnuishwbv9kw</td>\n",
       "      <td>Ve0LUwcrzxL7w0RYgY4Aaw</td>\n",
       "      <td>91EhRceds781OLo3M4BDrA</td>\n",
       "      <td>5</td>\n",
       "      <td>2012-10-11</td>\n",
       "      <td>What the?! I had to travel to Phoenix, AZ to s...</td>\n",
       "      <td>13</td>\n",
       "      <td>13</td>\n",
       "      <td>13</td>\n",
       "    </tr>\n",
       "    <tr>\n",
       "      <th>273201</th>\n",
       "      <td>BqcKTf4uEv_iD6Uit-e9hA</td>\n",
       "      <td>Ve0LUwcrzxL7w0RYgY4Aaw</td>\n",
       "      <td>S4mPzOP0GzaeBiNE1jNLpQ</td>\n",
       "      <td>3</td>\n",
       "      <td>2009-05-22</td>\n",
       "      <td>It's hard to decide whether to give this hotel...</td>\n",
       "      <td>5</td>\n",
       "      <td>1</td>\n",
       "      <td>1</td>\n",
       "    </tr>\n",
       "  </tbody>\n",
       "</table>\n",
       "</div>"
      ],
      "text/plain": [
       "                     review_id                 user_id  \\\n",
       "169118  pNocrNRDjQMarlj1MBLaxw  NOUfyJW-BAo_-Cbfo8edww   \n",
       "169119  OZAcCSzrpE1ISwjbtbcg4Q  NOUfyJW-BAo_-Cbfo8edww   \n",
       "273199  kCmiDNweNQKrymDCKVrJcQ  Ve0LUwcrzxL7w0RYgY4Aaw   \n",
       "273200  wri7ReZp9URnuishwbv9kw  Ve0LUwcrzxL7w0RYgY4Aaw   \n",
       "273201  BqcKTf4uEv_iD6Uit-e9hA  Ve0LUwcrzxL7w0RYgY4Aaw   \n",
       "\n",
       "                   business_id  stars        date  \\\n",
       "169118  I8pcOpgsZOPdkg2sV73hiw      5  2008-08-08   \n",
       "169119  8KkyDoWrqOeZb--qUtNwjQ      4  2008-08-12   \n",
       "273199  KOQw4e1rwCY5e0RnmB5rgQ      3  2012-10-14   \n",
       "273200  91EhRceds781OLo3M4BDrA      5  2012-10-11   \n",
       "273201  S4mPzOP0GzaeBiNE1jNLpQ      3  2009-05-22   \n",
       "\n",
       "                                                     text  useful  funny  cool  \n",
       "169118  My aunt took me to Mount Pleasant Cemetery on ...       4      3     7  \n",
       "169119  Posh and exclusive, HR is Canada's premiere de...       7      3     7  \n",
       "273199  This place is such a dive that it's awesome. I...       7      2     5  \n",
       "273200  What the?! I had to travel to Phoenix, AZ to s...      13     13    13  \n",
       "273201  It's hard to decide whether to give this hotel...       5      1     1  "
      ]
     },
     "execution_count": 24,
     "metadata": {},
     "output_type": "execute_result"
    }
   ],
   "source": [
    "best_user_reviews.head()"
   ]
  },
  {
   "cell_type": "code",
   "execution_count": 25,
   "metadata": {},
   "outputs": [
    {
     "data": {
      "text/plain": [
       "Index(['review_id', 'user_id', 'business_id', 'stars', 'date', 'text',\n",
       "       'useful', 'funny', 'cool', 'name'],\n",
       "      dtype='object')"
      ]
     },
     "execution_count": 25,
     "metadata": {},
     "output_type": "execute_result"
    }
   ],
   "source": [
    "best_user_reviews = pd.merge(best_user_reviews, best_users[['name','user_id']], on='user_id')\n",
    "best_user_reviews.columns"
   ]
  },
  {
   "cell_type": "code",
   "execution_count": 26,
   "metadata": {},
   "outputs": [
    {
     "data": {
      "image/png": "[encoded data removed]",
      "text/plain": [
       "<Figure size 1080x1440 with 1 Axes>"
      ]
     },
     "metadata": {
      "needs_background": "light"
     },
     "output_type": "display_data"
    }
   ],
   "source": [
    "plt.figure(figsize=(15,20))\n",
    "set_plot_style()\n",
    "plt.yticks(rotation=90)\n",
    "plt.xticks(rotation=90)\n",
    "plt.title(\"Best User Rating Distribution\", fontsize=18)\n",
    "_ = sns.boxplot(x='name', y='stars', data=best_user_reviews, color='#4d94ff')"
   ]
  },
  {
   "cell_type": "code",
   "execution_count": 27,
   "metadata": {},
   "outputs": [],
   "source": [
    "best_user_reviews['char_count'] = best_user_reviews['text'].str.len()"
   ]
  },
  {
   "cell_type": "code",
   "execution_count": 28,
   "metadata": {
    "scrolled": false
   },
   "outputs": [
    {
     "data": {
      "image/png": "[encoded data removed]",
      "text/plain": [
       "<Figure size 1080x1440 with 1 Axes>"
      ]
     },
     "metadata": {
      "needs_background": "light"
     },
     "output_type": "display_data"
    }
   ],
   "source": [
    "plt.figure(figsize=(15,20))\n",
    "set_plot_style()\n",
    "plt.yticks(rotation=90)\n",
    "plt.xticks(rotation=90)\n",
    "plt.title(\"Best User Word Count Per Review Distribution\", fontsize=18)\n",
    "_ = sns.boxplot(x='name', y='char_count', data=best_user_reviews, color='#4d94ff')"
   ]
  },
  {
   "cell_type": "code",
   "execution_count": 29,
   "metadata": {},
   "outputs": [
    {
     "data": {
      "text/html": [
       "<div>\n",
       "<style scoped>\n",
       "    .dataframe tbody tr th:only-of-type {\n",
       "        vertical-align: middle;\n",
       "    }\n",
       "\n",
       "    .dataframe tbody tr th {\n",
       "        vertical-align: top;\n",
       "    }\n",
       "\n",
       "    .dataframe thead th {\n",
       "        text-align: right;\n",
       "    }\n",
       "</style>\n",
       "<table border=\"1\" class=\"dataframe\">\n",
       "  <thead>\n",
       "    <tr style=\"text-align: right;\">\n",
       "      <th></th>\n",
       "      <th>business_id</th>\n",
       "      <th>name</th>\n",
       "      <th>neighborhood</th>\n",
       "      <th>address</th>\n",
       "      <th>city</th>\n",
       "      <th>state</th>\n",
       "      <th>postal_code</th>\n",
       "      <th>latitude</th>\n",
       "      <th>longitude</th>\n",
       "      <th>stars</th>\n",
       "      <th>review_count</th>\n",
       "      <th>is_open</th>\n",
       "      <th>categories</th>\n",
       "    </tr>\n",
       "  </thead>\n",
       "  <tbody>\n",
       "    <tr>\n",
       "      <th>4</th>\n",
       "      <td>PfOCPjBrlQAnz__NXj9h_w</td>\n",
       "      <td>\"Brick House Tavern + Tap\"</td>\n",
       "      <td>NaN</td>\n",
       "      <td>\"581 Howe Ave\"</td>\n",
       "      <td>Cuyahoga Falls</td>\n",
       "      <td>OH</td>\n",
       "      <td>44221</td>\n",
       "      <td>41.119535</td>\n",
       "      <td>-81.475690</td>\n",
       "      <td>3.5</td>\n",
       "      <td>116</td>\n",
       "      <td>1</td>\n",
       "      <td>American (New);Nightlife;Bars;Sandwiches;Ameri...</td>\n",
       "    </tr>\n",
       "    <tr>\n",
       "      <th>5</th>\n",
       "      <td>o9eMRCWt5PkpLDE0gOPtcQ</td>\n",
       "      <td>\"Messina\"</td>\n",
       "      <td>NaN</td>\n",
       "      <td>\"Richterstr. 11\"</td>\n",
       "      <td>Stuttgart</td>\n",
       "      <td>BW</td>\n",
       "      <td>70567</td>\n",
       "      <td>48.727200</td>\n",
       "      <td>9.147950</td>\n",
       "      <td>4.0</td>\n",
       "      <td>5</td>\n",
       "      <td>1</td>\n",
       "      <td>Italian;Restaurants</td>\n",
       "    </tr>\n",
       "    <tr>\n",
       "      <th>10</th>\n",
       "      <td>XOSRcvtaKc_Q5H1SAzN20A</td>\n",
       "      <td>\"East Coast Coffee\"</td>\n",
       "      <td>NaN</td>\n",
       "      <td>\"737 West Pike St\"</td>\n",
       "      <td>Houston</td>\n",
       "      <td>PA</td>\n",
       "      <td>15342</td>\n",
       "      <td>40.241548</td>\n",
       "      <td>-80.212815</td>\n",
       "      <td>4.5</td>\n",
       "      <td>3</td>\n",
       "      <td>0</td>\n",
       "      <td>Breakfast &amp; Brunch;Gluten-Free;Coffee &amp; Tea;Fo...</td>\n",
       "    </tr>\n",
       "    <tr>\n",
       "      <th>14</th>\n",
       "      <td>fNMVV_ZX7CJSDWQGdOM8Nw</td>\n",
       "      <td>\"Showmars Government Center\"</td>\n",
       "      <td>Uptown</td>\n",
       "      <td>\"600 E 4th St\"</td>\n",
       "      <td>Charlotte</td>\n",
       "      <td>NC</td>\n",
       "      <td>28202</td>\n",
       "      <td>35.221647</td>\n",
       "      <td>-80.839345</td>\n",
       "      <td>3.5</td>\n",
       "      <td>7</td>\n",
       "      <td>1</td>\n",
       "      <td>Restaurants;American (Traditional)</td>\n",
       "    </tr>\n",
       "    <tr>\n",
       "      <th>15</th>\n",
       "      <td>l09JfMeQ6ynYs5MCJtrcmQ</td>\n",
       "      <td>\"Alize Catering\"</td>\n",
       "      <td>Yonge and Eglinton</td>\n",
       "      <td>\"2459 Yonge St\"</td>\n",
       "      <td>Toronto</td>\n",
       "      <td>ON</td>\n",
       "      <td>M4P 2H6</td>\n",
       "      <td>43.711399</td>\n",
       "      <td>-79.399339</td>\n",
       "      <td>3.0</td>\n",
       "      <td>12</td>\n",
       "      <td>0</td>\n",
       "      <td>Italian;French;Restaurants</td>\n",
       "    </tr>\n",
       "  </tbody>\n",
       "</table>\n",
       "</div>"
      ],
      "text/plain": [
       "               business_id                          name        neighborhood  \\\n",
       "4   PfOCPjBrlQAnz__NXj9h_w    \"Brick House Tavern + Tap\"                 NaN   \n",
       "5   o9eMRCWt5PkpLDE0gOPtcQ                     \"Messina\"                 NaN   \n",
       "10  XOSRcvtaKc_Q5H1SAzN20A           \"East Coast Coffee\"                 NaN   \n",
       "14  fNMVV_ZX7CJSDWQGdOM8Nw  \"Showmars Government Center\"              Uptown   \n",
       "15  l09JfMeQ6ynYs5MCJtrcmQ              \"Alize Catering\"  Yonge and Eglinton   \n",
       "\n",
       "               address            city state postal_code   latitude  \\\n",
       "4       \"581 Howe Ave\"  Cuyahoga Falls    OH       44221  41.119535   \n",
       "5     \"Richterstr. 11\"       Stuttgart    BW       70567  48.727200   \n",
       "10  \"737 West Pike St\"         Houston    PA       15342  40.241548   \n",
       "14      \"600 E 4th St\"       Charlotte    NC       28202  35.221647   \n",
       "15     \"2459 Yonge St\"         Toronto    ON     M4P 2H6  43.711399   \n",
       "\n",
       "    longitude  stars  review_count  is_open  \\\n",
       "4  -81.475690    3.5           116        1   \n",
       "5    9.147950    4.0             5        1   \n",
       "10 -80.212815    4.5             3        0   \n",
       "14 -80.839345    3.5             7        1   \n",
       "15 -79.399339    3.0            12        0   \n",
       "\n",
       "                                           categories  \n",
       "4   American (New);Nightlife;Bars;Sandwiches;Ameri...  \n",
       "5                                 Italian;Restaurants  \n",
       "10  Breakfast & Brunch;Gluten-Free;Coffee & Tea;Fo...  \n",
       "14                 Restaurants;American (Traditional)  \n",
       "15                         Italian;French;Restaurants  "
      ]
     },
     "execution_count": 29,
     "metadata": {},
     "output_type": "execute_result"
    }
   ],
   "source": [
    "restaurants_df.head()"
   ]
  },
  {
   "cell_type": "code",
   "execution_count": 30,
   "metadata": {},
   "outputs": [
    {
     "data": {
      "text/html": [
       "<div>\n",
       "<style scoped>\n",
       "    .dataframe tbody tr th:only-of-type {\n",
       "        vertical-align: middle;\n",
       "    }\n",
       "\n",
       "    .dataframe tbody tr th {\n",
       "        vertical-align: top;\n",
       "    }\n",
       "\n",
       "    .dataframe thead th {\n",
       "        text-align: right;\n",
       "    }\n",
       "</style>\n",
       "<table border=\"1\" class=\"dataframe\">\n",
       "  <thead>\n",
       "    <tr style=\"text-align: right;\">\n",
       "      <th></th>\n",
       "      <th>business_id</th>\n",
       "      <th>name</th>\n",
       "      <th>neighborhood</th>\n",
       "      <th>address</th>\n",
       "      <th>city</th>\n",
       "      <th>state</th>\n",
       "      <th>postal_code</th>\n",
       "      <th>latitude</th>\n",
       "      <th>longitude</th>\n",
       "      <th>stars</th>\n",
       "      <th>review_count</th>\n",
       "      <th>is_open</th>\n",
       "      <th>categories</th>\n",
       "    </tr>\n",
       "  </thead>\n",
       "  <tbody>\n",
       "    <tr>\n",
       "      <th>22535</th>\n",
       "      <td>UntbR8C0Mxsfd-hNBZXO-w</td>\n",
       "      <td>\"La Chamade\"</td>\n",
       "      <td>NaN</td>\n",
       "      <td>\"Via San Nullo 48\"</td>\n",
       "      <td>Montreal</td>\n",
       "      <td>CA</td>\n",
       "      <td>80078</td>\n",
       "      <td>40.891417</td>\n",
       "      <td>14.092636</td>\n",
       "      <td>4.5</td>\n",
       "      <td>4</td>\n",
       "      <td>1</td>\n",
       "      <td>Pizza;Restaurants</td>\n",
       "    </tr>\n",
       "  </tbody>\n",
       "</table>\n",
       "</div>"
      ],
      "text/plain": [
       "                  business_id          name neighborhood             address  \\\n",
       "22535  UntbR8C0Mxsfd-hNBZXO-w  \"La Chamade\"          NaN  \"Via San Nullo 48\"   \n",
       "\n",
       "           city state postal_code   latitude  longitude  stars  review_count  \\\n",
       "22535  Montreal    CA       80078  40.891417  14.092636    4.5             4   \n",
       "\n",
       "       is_open         categories  \n",
       "22535        1  Pizza;Restaurants  "
      ]
     },
     "execution_count": 30,
     "metadata": {},
     "output_type": "execute_result"
    }
   ],
   "source": [
    "restaurants_df[restaurants_df['state'].str.contains('CA')]"
   ]
  },
  {
   "cell_type": "code",
   "execution_count": 31,
   "metadata": {},
   "outputs": [],
   "source": [
    "restaurant_count_by_city = restaurants_df.groupby('city')['city'].count().sort_values(ascending=False).to_frame()\n",
    "restaurant_count_by_city.columns = ['count']\n",
    "restaurant_count_by_city = restaurant_count_by_city.reset_index()"
   ]
  },
  {
   "cell_type": "code",
   "execution_count": 32,
   "metadata": {
    "scrolled": true
   },
   "outputs": [
    {
     "data": {
      "text/html": [
       "<div>\n",
       "<style scoped>\n",
       "    .dataframe tbody tr th:only-of-type {\n",
       "        vertical-align: middle;\n",
       "    }\n",
       "\n",
       "    .dataframe tbody tr th {\n",
       "        vertical-align: top;\n",
       "    }\n",
       "\n",
       "    .dataframe thead th {\n",
       "        text-align: right;\n",
       "    }\n",
       "</style>\n",
       "<table border=\"1\" class=\"dataframe\">\n",
       "  <thead>\n",
       "    <tr style=\"text-align: right;\">\n",
       "      <th></th>\n",
       "      <th>city</th>\n",
       "      <th>count</th>\n",
       "    </tr>\n",
       "  </thead>\n",
       "  <tbody>\n",
       "    <tr>\n",
       "      <th>49</th>\n",
       "      <td>Urbana</td>\n",
       "      <td>117</td>\n",
       "    </tr>\n",
       "    <tr>\n",
       "      <th>50</th>\n",
       "      <td>Monroeville</td>\n",
       "      <td>115</td>\n",
       "    </tr>\n",
       "    <tr>\n",
       "      <th>51</th>\n",
       "      <td>Middleton</td>\n",
       "      <td>114</td>\n",
       "    </tr>\n",
       "    <tr>\n",
       "      <th>52</th>\n",
       "      <td>Strongsville</td>\n",
       "      <td>113</td>\n",
       "    </tr>\n",
       "    <tr>\n",
       "      <th>53</th>\n",
       "      <td>Ludwigsburg</td>\n",
       "      <td>112</td>\n",
       "    </tr>\n",
       "    <tr>\n",
       "      <th>54</th>\n",
       "      <td>Kent</td>\n",
       "      <td>111</td>\n",
       "    </tr>\n",
       "    <tr>\n",
       "      <th>55</th>\n",
       "      <td>Brossard</td>\n",
       "      <td>107</td>\n",
       "    </tr>\n",
       "    <tr>\n",
       "      <th>56</th>\n",
       "      <td>North Olmsted</td>\n",
       "      <td>105</td>\n",
       "    </tr>\n",
       "  </tbody>\n",
       "</table>\n",
       "</div>"
      ],
      "text/plain": [
       "             city  count\n",
       "49         Urbana    117\n",
       "50    Monroeville    115\n",
       "51      Middleton    114\n",
       "52   Strongsville    113\n",
       "53    Ludwigsburg    112\n",
       "54           Kent    111\n",
       "55       Brossard    107\n",
       "56  North Olmsted    105"
      ]
     },
     "execution_count": 32,
     "metadata": {},
     "output_type": "execute_result"
    }
   ],
   "source": [
    "restaurant_count_by_city[(restaurant_count_by_city['count'] >100) & (restaurant_count_by_city['count'] <120)]"
   ]
  },
  {
   "cell_type": "code",
   "execution_count": 33,
   "metadata": {},
   "outputs": [],
   "source": [
    "top_10_cities = restaurant_count_by_city.sort_values('count', ascending=False).iloc[0:10, :]"
   ]
  },
  {
   "cell_type": "code",
   "execution_count": 34,
   "metadata": {},
   "outputs": [
    {
     "data": {
      "image/png": "[encoded data removed]",
      "text/plain": [
       "<Figure size 1008x576 with 1 Axes>"
      ]
     },
     "metadata": {
      "needs_background": "light"
     },
     "output_type": "display_data"
    }
   ],
   "source": [
    "#Plot the top 10 cities with most restaurants\n",
    "\n",
    "plt.figure(figsize=(14,8))\n",
    "set_plot_style()\n",
    "plt.xticks(rotation=90)\n",
    "_ = sns.barplot(x='city', y='count', data=top_10_cities,\n",
    "            label=\"Total\", color=\"b\")"
   ]
  },
  {
   "cell_type": "code",
   "execution_count": 35,
   "metadata": {},
   "outputs": [],
   "source": [
    "business_attributes_df = pd.merge(business_attributes_df, restaurants_df[['name','business_id']], on='business_id')"
   ]
  },
  {
   "cell_type": "code",
   "execution_count": 36,
   "metadata": {},
   "outputs": [],
   "source": [
    "selected_restaurants = restaurants_df[restaurants_df['city'] == 'Kent']"
   ]
  },
  {
   "cell_type": "code",
   "execution_count": 37,
   "metadata": {},
   "outputs": [],
   "source": [
    "selected_restaurant_attributes_df = business_attributes_df[business_attributes_df['business_id'].isin(selected_restaurants['business_id'].values)]"
   ]
  },
  {
   "cell_type": "code",
   "execution_count": 38,
   "metadata": {},
   "outputs": [],
   "source": [
    "selected_reviews = review_df[review_df['business_id'].isin(selected_restaurants['business_id'].values)]\n",
    "selected_reviews = pd.merge(selected_reviews, user_df[['name','user_id']], on='user_id')\n",
    "selected_reviews = pd.merge(selected_reviews, selected_restaurants[['name', 'business_id']], on='business_id', suffixes=('_user', '_business'))"
   ]
  },
  {
   "cell_type": "code",
   "execution_count": 39,
   "metadata": {},
   "outputs": [
    {
     "data": {
      "text/html": [
       "<div>\n",
       "<style scoped>\n",
       "    .dataframe tbody tr th:only-of-type {\n",
       "        vertical-align: middle;\n",
       "    }\n",
       "\n",
       "    .dataframe tbody tr th {\n",
       "        vertical-align: top;\n",
       "    }\n",
       "\n",
       "    .dataframe thead th {\n",
       "        text-align: right;\n",
       "    }\n",
       "</style>\n",
       "<table border=\"1\" class=\"dataframe\">\n",
       "  <thead>\n",
       "    <tr style=\"text-align: right;\">\n",
       "      <th></th>\n",
       "      <th>review_id</th>\n",
       "      <th>user_id</th>\n",
       "      <th>business_id</th>\n",
       "      <th>stars</th>\n",
       "      <th>date</th>\n",
       "      <th>text</th>\n",
       "      <th>useful</th>\n",
       "      <th>funny</th>\n",
       "      <th>cool</th>\n",
       "      <th>name_user</th>\n",
       "      <th>name_business</th>\n",
       "    </tr>\n",
       "  </thead>\n",
       "  <tbody>\n",
       "    <tr>\n",
       "      <th>0</th>\n",
       "      <td>-nwxlMLW5mAIKEI7LmsuwQ</td>\n",
       "      <td>LqTlFmf8ewSuQCI0OGXslw</td>\n",
       "      <td>GdZ-Ryn9QzqV4glodYF6Jg</td>\n",
       "      <td>5</td>\n",
       "      <td>2012-04-15</td>\n",
       "      <td>Love Ray's Place. I have been going to this pl...</td>\n",
       "      <td>0</td>\n",
       "      <td>0</td>\n",
       "      <td>0</td>\n",
       "      <td>David</td>\n",
       "      <td>\"Rays Place\"</td>\n",
       "    </tr>\n",
       "    <tr>\n",
       "      <th>1</th>\n",
       "      <td>TBeBTWHLaNMLxw5-uDyiNA</td>\n",
       "      <td>C-CXUWZGwfvLEgih5nNdIA</td>\n",
       "      <td>GdZ-Ryn9QzqV4glodYF6Jg</td>\n",
       "      <td>5</td>\n",
       "      <td>2015-10-30</td>\n",
       "      <td>Best beer selection in Kent by far! And it's a...</td>\n",
       "      <td>0</td>\n",
       "      <td>0</td>\n",
       "      <td>0</td>\n",
       "      <td>Jason</td>\n",
       "      <td>\"Rays Place\"</td>\n",
       "    </tr>\n",
       "    <tr>\n",
       "      <th>2</th>\n",
       "      <td>mCcprNRJPB9x7oXyNH2wAw</td>\n",
       "      <td>v4fdrRDUzff8qDMSAysinQ</td>\n",
       "      <td>GdZ-Ryn9QzqV4glodYF6Jg</td>\n",
       "      <td>3</td>\n",
       "      <td>2014-11-02</td>\n",
       "      <td>The food was tasty. The service was not so goo...</td>\n",
       "      <td>2</td>\n",
       "      <td>0</td>\n",
       "      <td>0</td>\n",
       "      <td>Rachael</td>\n",
       "      <td>\"Rays Place\"</td>\n",
       "    </tr>\n",
       "    <tr>\n",
       "      <th>3</th>\n",
       "      <td>I_eTof4309NG2gwtS9KKVQ</td>\n",
       "      <td>DsqIqc8hQcfDci9ZlVZkJw</td>\n",
       "      <td>GdZ-Ryn9QzqV4glodYF6Jg</td>\n",
       "      <td>2</td>\n",
       "      <td>2016-03-20</td>\n",
       "      <td>There is a group of us from work that have bee...</td>\n",
       "      <td>1</td>\n",
       "      <td>0</td>\n",
       "      <td>0</td>\n",
       "      <td>Jonathan</td>\n",
       "      <td>\"Rays Place\"</td>\n",
       "    </tr>\n",
       "    <tr>\n",
       "      <th>4</th>\n",
       "      <td>0zhHi36wyrf1GPssJuq8Eg</td>\n",
       "      <td>GKqEvnzEm7XhjclF5LFy3Q</td>\n",
       "      <td>GdZ-Ryn9QzqV4glodYF6Jg</td>\n",
       "      <td>5</td>\n",
       "      <td>2015-07-11</td>\n",
       "      <td>Great place and will always come back but our ...</td>\n",
       "      <td>1</td>\n",
       "      <td>0</td>\n",
       "      <td>0</td>\n",
       "      <td>Jeff</td>\n",
       "      <td>\"Rays Place\"</td>\n",
       "    </tr>\n",
       "  </tbody>\n",
       "</table>\n",
       "</div>"
      ],
      "text/plain": [
       "                review_id                 user_id             business_id  \\\n",
       "0  -nwxlMLW5mAIKEI7LmsuwQ  LqTlFmf8ewSuQCI0OGXslw  GdZ-Ryn9QzqV4glodYF6Jg   \n",
       "1  TBeBTWHLaNMLxw5-uDyiNA  C-CXUWZGwfvLEgih5nNdIA  GdZ-Ryn9QzqV4glodYF6Jg   \n",
       "2  mCcprNRJPB9x7oXyNH2wAw  v4fdrRDUzff8qDMSAysinQ  GdZ-Ryn9QzqV4glodYF6Jg   \n",
       "3  I_eTof4309NG2gwtS9KKVQ  DsqIqc8hQcfDci9ZlVZkJw  GdZ-Ryn9QzqV4glodYF6Jg   \n",
       "4  0zhHi36wyrf1GPssJuq8Eg  GKqEvnzEm7XhjclF5LFy3Q  GdZ-Ryn9QzqV4glodYF6Jg   \n",
       "\n",
       "   stars        date                                               text  \\\n",
       "0      5  2012-04-15  Love Ray's Place. I have been going to this pl...   \n",
       "1      5  2015-10-30  Best beer selection in Kent by far! And it's a...   \n",
       "2      3  2014-11-02  The food was tasty. The service was not so goo...   \n",
       "3      2  2016-03-20  There is a group of us from work that have bee...   \n",
       "4      5  2015-07-11  Great place and will always come back but our ...   \n",
       "\n",
       "   useful  funny  cool name_user name_business  \n",
       "0       0      0     0     David  \"Rays Place\"  \n",
       "1       0      0     0     Jason  \"Rays Place\"  \n",
       "2       2      0     0   Rachael  \"Rays Place\"  \n",
       "3       1      0     0  Jonathan  \"Rays Place\"  \n",
       "4       1      0     0      Jeff  \"Rays Place\"  "
      ]
     },
     "execution_count": 39,
     "metadata": {},
     "output_type": "execute_result"
    }
   ],
   "source": [
    "selected_reviews.head()"
   ]
  },
  {
   "cell_type": "code",
   "execution_count": 40,
   "metadata": {},
   "outputs": [],
   "source": [
    "user_ids_from_selected_restaurant_reviews = selected_reviews['user_id'].unique()\n",
    "selected_restaurant_ids = selected_restaurants['business_id'].unique()"
   ]
  },
  {
   "cell_type": "code",
   "execution_count": 41,
   "metadata": {},
   "outputs": [],
   "source": [
    "def restaurant_similarity(r1, r2):\n",
    "    count = 0\n",
    "    total = 0\n",
    "    for val1, val2 in zip(r1.values, r2.values):\n",
    "        if val1 != 'Na' and val2 != 'Na':\n",
    "            total += 1\n",
    "            if val1 == val2:\n",
    "                count += 1\n",
    "                \n",
    "    return(count/82)"
   ]
  },
  {
   "cell_type": "code",
   "execution_count": 42,
   "metadata": {},
   "outputs": [],
   "source": [
    "results_df = {'name':[]}\n",
    "\n",
    "for index, current_row in selected_restaurant_attributes_df.iterrows():\n",
    "    results_df['name'].append(current_row['name'])\n",
    "    results_df[current_row['name']] = []\n",
    "    for index, row_for_comparison in selected_restaurant_attributes_df.iterrows():\n",
    "        results_df[current_row['name']].append(restaurant_similarity(current_row, row_for_comparison))\n"
   ]
  },
  {
   "cell_type": "code",
   "execution_count": 43,
   "metadata": {},
   "outputs": [],
   "source": [
    "results_df = pd.DataFrame(results_df).set_index('name')"
   ]
  },
  {
   "cell_type": "code",
   "execution_count": 44,
   "metadata": {
    "scrolled": true
   },
   "outputs": [
    {
     "data": {
      "text/plain": [
       "<matplotlib.axes._subplots.AxesSubplot at 0x1b2c733ef28>"
      ]
     },
     "execution_count": 44,
     "metadata": {},
     "output_type": "execute_result"
    },
    {
     "data": {
      "image/png": "[encoded data removed]",
      "text/plain": [
       "<Figure size 1440x1800 with 2 Axes>"
      ]
     },
     "metadata": {
      "needs_background": "light"
     },
     "output_type": "display_data"
    }
   ],
   "source": [
    "plt.figure(figsize=(20, 25))\n",
    "plt.title(\"Restaurant Similarity in Kent, Ohio\", fontsize=25)\n",
    "sns.heatmap(results_df)"
   ]
  },
  {
   "cell_type": "code",
   "execution_count": 53,
   "metadata": {},
   "outputs": [],
   "source": [
    "# Define get_nodes_from_partition()\n",
    "def get_nodes_by_attribute(G, attribute_name, attribute):\n",
    "    # Initialize an empty list for nodes to be returned\n",
    "    nodes = []\n",
    "    # Iterate over each node in the graph G\n",
    "    for n in G.nodes():\n",
    "        # Check that the node belongs to the particular partition\n",
    "        if G.node[n][attribute_name] == attribute:\n",
    "            # If so, append it to the list of nodes\n",
    "            nodes.append(n)\n",
    "    return nodes\n",
    "\n",
    "#This function will evaluate how many common ratings two given users have\n",
    "def shared_partition_nodes(G, node1, node2):\n",
    "    \n",
    "    def is_positive(rating):\n",
    "        return rating>=3\n",
    "    \n",
    "    shared_nodes = []\n",
    "    # Check that the nodes belong to the same partition\n",
    "    assert G.node[node1]['partition'] == G.node[node2]['partition']\n",
    "\n",
    "    # Get neighbors of node 1: nbrs1\n",
    "    nbrs1 = G.neighbors(node1)\n",
    "    # Get neighbors of node 2: nbrs2\n",
    "    nbrs2 = G.neighbors(node2)\n",
    "\n",
    "    # Compute the overlap using set intersections\n",
    "    overlap = set(nbrs1).intersection(nbrs2)\n",
    "\n",
    "    for node in overlap:\n",
    "        if is_positive(G[node1][node]['weight']) == is_positive(G[node2][node]['weight']):\n",
    "            shared_nodes.append(node)\n",
    "\n",
    "    return shared_nodes\n",
    "\n",
    "def user_similarity(G, user1, user2, proj_nodes):\n",
    "    # Check that the nodes belong to the 'users' partition\n",
    "    assert G.node[user1]['partition'] == 'users'\n",
    "    assert G.node[user2]['partition'] == 'users'\n",
    "\n",
    "    # Get the set of nodes shared between the two users\n",
    "    shared_nodes = shared_partition_nodes(G, user1, user2)\n",
    "\n",
    "    # Return the fraction of nodes in the projects partition\n",
    "    return len(shared_nodes) / len(proj_nodes)\n",
    "\n",
    "\n",
    "from collections import defaultdict\n",
    "\n",
    "def most_similar_users(G, user, user_nodes, proj_nodes):\n",
    "    # Data checks\n",
    "    assert G.node[user]['partition'] == 'users'\n",
    "\n",
    "    # Get other nodes from user partition\n",
    "    user_nodes = set(user_nodes)\n",
    "    user_nodes.remove(user)\n",
    "\n",
    "    # Create the dictionary: similarities\n",
    "    similarities = defaultdict(list)\n",
    "    for n in user_nodes:\n",
    "        similarity = user_similarity(G, user, n, proj_nodes)\n",
    "        similarities[similarity].append(n)\n",
    "\n",
    "    return(similarities)\n",
    "\n",
    "\n",
    "def recommend_restaurants(G, from_user, to_user):\n",
    "    # Get the set of restaurants that from_user has reviewed\n",
    "    from_restaurants = set(G.neighbors(from_user))\n",
    "    # Get the set of restaurants that to_user has reviewed \n",
    "    to_restaurants = set(G.neighbors(to_user))\n",
    "\n",
    "    # Identify restaurants that the from_user is connected to that the to_user is not connected to\n",
    "    return from_restaurants.difference(to_restaurants)\n",
    "\n",
    "# Define get_nodes_and_nbrs()\n",
    "def get_nodes_and_nbrs(G, nodes_of_interest):\n",
    "    \"\"\"\n",
    "    Returns a subgraph of the graph `G` with only the `nodes_of_interest` and their neighbors.\n",
    "    \"\"\"\n",
    "    nodes_to_draw = []\n",
    "    # Iterate over the nodes of interest\n",
    "    for n in nodes_of_interest:\n",
    "    \n",
    "        # Append the nodes of interest to nodes_to_draw\n",
    "        nodes_to_draw.append(n)\n",
    "        \n",
    "        # Iterate over all the neighbors of node n\n",
    "        nodes_to_draw.extend(G.neighbors(n))\n",
    "            \n",
    "    return G.subgraph(nodes_to_draw)\n",
    "\n",
    "\n",
    "def return_renamed_graph(G):\n",
    "    #Rename the nodes to comprehensive names\n",
    "    nodes = list(G.nodes())\n",
    "    G = nx.relabel_nodes(G, {i: G.node[i]['name'] for i in nodes})\n",
    "    return G"
   ]
  },
  {
   "cell_type": "code",
   "execution_count": 54,
   "metadata": {
    "scrolled": true
   },
   "outputs": [],
   "source": [
    "G = nx.DiGraph()"
   ]
  },
  {
   "cell_type": "code",
   "execution_count": 55,
   "metadata": {
    "scrolled": false
   },
   "outputs": [],
   "source": [
    "[G.add_node(x[1], partition='users', name=x[9]) for x in selected_reviews.values]\n",
    "_ = [G.add_node(x[2], partition='restaurants', name=x[10]) for x in selected_reviews.values]"
   ]
  },
  {
   "cell_type": "code",
   "execution_count": 56,
   "metadata": {},
   "outputs": [],
   "source": [
    "dcs = nx.degree_centrality(G)\n",
    "for n in G.nodes():\n",
    "    G.node[n]['centrality'] = dcs[n]"
   ]
  },
  {
   "cell_type": "code",
   "execution_count": 57,
   "metadata": {},
   "outputs": [],
   "source": [
    "for index, row in selected_reviews.iterrows():\n",
    "    G.add_edge(row['user_id'], row['business_id'], weight=row['stars'], text=row['text'])"
   ]
  },
  {
   "cell_type": "code",
   "execution_count": 58,
   "metadata": {},
   "outputs": [],
   "source": [
    "for edge in G.edges(data=True):\n",
    "    if edge[2]['weight'] > 3:\n",
    "        edge[2]['color'] = 'g'\n",
    "    else:\n",
    "        edge[2]['color'] = 'r'"
   ]
  },
  {
   "cell_type": "code",
   "execution_count": 59,
   "metadata": {},
   "outputs": [],
   "source": [
    "users = get_nodes_by_attribute(G, 'partition', 'users')"
   ]
  },
  {
   "cell_type": "code",
   "execution_count": 60,
   "metadata": {},
   "outputs": [
    {
     "ename": "SyntaxError",
     "evalue": "invalid syntax (plots.py, line 1112)",
     "output_type": "error",
     "traceback": [
      "Traceback \u001b[1;36m(most recent call last)\u001b[0m:\n",
      "  File \u001b[0;32m\"c:\\python35\\lib\\site-packages\\IPython\\core\\interactiveshell.py\"\u001b[0m, line \u001b[0;32m3267\u001b[0m, in \u001b[0;35mrun_code\u001b[0m\n    exec(code_obj, self.user_global_ns, self.user_ns)\n",
      "  File \u001b[0;32m\"<ipython-input-60-b6b9164bdc54>\"\u001b[0m, line \u001b[0;32m1\u001b[0m, in \u001b[0;35m<module>\u001b[0m\n    from nxviz import ArcPlot\n",
      "\u001b[1;36m  File \u001b[1;32m\"c:\\python35\\lib\\site-packages\\nxviz\\__init__.py\"\u001b[1;36m, line \u001b[1;32m1\u001b[1;36m, in \u001b[1;35m<module>\u001b[1;36m\u001b[0m\n\u001b[1;33m    from nxviz.plots import ArcPlot, CircosPlot, MatrixPlot, GeoPlot  # NOQA\u001b[0m\n",
      "\u001b[1;36m  File \u001b[1;32m\"c:\\python35\\lib\\site-packages\\nxviz\\plots.py\"\u001b[1;36m, line \u001b[1;32m1112\u001b[0m\n\u001b[1;33m    .encode(alt.X(f'{self.node_lon}:Q',\u001b[0m\n\u001b[1;37m                                     ^\u001b[0m\n\u001b[1;31mSyntaxError\u001b[0m\u001b[1;31m:\u001b[0m invalid syntax\n"
     ]
    }
   ],
   "source": [
    "from nxviz import ArcPlot"
   ]
  },
  {
   "cell_type": "code",
   "execution_count": 61,
   "metadata": {},
   "outputs": [
    {
     "ename": "SyntaxError",
     "evalue": "invalid syntax (plots.py, line 1112)",
     "output_type": "error",
     "traceback": [
      "Traceback \u001b[1;36m(most recent call last)\u001b[0m:\n",
      "  File \u001b[0;32m\"c:\\python35\\lib\\site-packages\\IPython\\core\\interactiveshell.py\"\u001b[0m, line \u001b[0;32m3267\u001b[0m, in \u001b[0;35mrun_code\u001b[0m\n    exec(code_obj, self.user_global_ns, self.user_ns)\n",
      "  File \u001b[0;32m\"<ipython-input-61-6cfa263247c8>\"\u001b[0m, line \u001b[0;32m1\u001b[0m, in \u001b[0;35m<module>\u001b[0m\n    from nxviz.plots import CircosPlot, ArcPlot\n",
      "\u001b[1;36m  File \u001b[1;32m\"c:\\python35\\lib\\site-packages\\nxviz\\__init__.py\"\u001b[1;36m, line \u001b[1;32m1\u001b[1;36m, in \u001b[1;35m<module>\u001b[1;36m\u001b[0m\n\u001b[1;33m    from nxviz.plots import ArcPlot, CircosPlot, MatrixPlot, GeoPlot  # NOQA\u001b[0m\n",
      "\u001b[1;36m  File \u001b[1;32m\"c:\\python35\\lib\\site-packages\\nxviz\\plots.py\"\u001b[1;36m, line \u001b[1;32m1112\u001b[0m\n\u001b[1;33m    .encode(alt.X(f'{self.node_lon}:Q',\u001b[0m\n\u001b[1;37m                                     ^\u001b[0m\n\u001b[1;31mSyntaxError\u001b[0m\u001b[1;31m:\u001b[0m invalid syntax\n"
     ]
    }
   ],
   "source": [
    "from nxviz.plots import CircosPlot, ArcPlot\n",
    "\n",
    "# Create the ArcPlot object: a\n",
    "edges = G.edges()\n",
    "colors = [G[u][v]['color'] for u,v in edges]\n",
    "a = CircosPlot(G, figsize=(15,15), node_color='partition', group_label_color=True, group_label_position='middle',\n",
    "               node_grouping='partition', node_order='centrality')\n",
    "\n",
    "# Draw the ArcPlot to the screen\n",
    "a.draw()\n",
    "plt.title('Users And Restaurants Reviewed in Kent')\n",
    "plt.legend()\n",
    "plt.show()"
   ]
  },
  {
   "cell_type": "markdown",
   "metadata": {},
   "source": [
    "Lets test the similarity and recommendation functions:"
   ]
  },
  {
   "cell_type": "code",
   "execution_count": 62,
   "metadata": {},
   "outputs": [],
   "source": [
    "user_similarities = {}\n",
    "user_similarities = most_similar_users(G, users[30], users, get_nodes_by_attribute(G, 'partition', 'restaurants'))"
   ]
  },
  {
   "cell_type": "code",
   "execution_count": 63,
   "metadata": {},
   "outputs": [],
   "source": [
    "max_sim = {'max':0, 'user':'na', 'users':[]}\n",
    "for user in users:\n",
    "    user_similarities = most_similar_users(G, user, users, get_nodes_by_attribute(G, 'partition', 'restaurants'))\n",
    "    max_similarity_score = max(user_similarities.keys())\n",
    "    if max_similarity_score > max_sim['max']:\n",
    "        max_sim['max'] = max_similarity_score\n",
    "        max_sim['users'] = user_similarities[max_similarity_score]\n",
    "        max_sim['user'] = user"
   ]
  },
  {
   "cell_type": "code",
   "execution_count": 64,
   "metadata": {
    "scrolled": false
   },
   "outputs": [
    {
     "data": {
      "text/plain": [
       "{'max': 0.02564102564102564,\n",
       " 'user': 'nNQsv90EjdkfDkUpy3l-pQ',\n",
       " 'users': ['pg2soiiAWSvenWac41oG8Q',\n",
       "  'FgZr2w3CRlCauxBF0CnmSw',\n",
       "  'axwmATqbyM-FmPTZ9hnGPw']}"
      ]
     },
     "execution_count": 64,
     "metadata": {},
     "output_type": "execute_result"
    }
   ],
   "source": [
    "max_sim"
   ]
  },
  {
   "cell_type": "code",
   "execution_count": 65,
   "metadata": {},
   "outputs": [],
   "source": [
    "max_sim_users = max_sim['users']\n",
    "max_sim_users.append(max_sim['user'])"
   ]
  },
  {
   "cell_type": "code",
   "execution_count": 66,
   "metadata": {},
   "outputs": [],
   "source": [
    "similar_users_graph = get_nodes_and_nbrs(G, max_sim_users)"
   ]
  },
  {
   "cell_type": "code",
   "execution_count": 67,
   "metadata": {},
   "outputs": [
    {
     "ename": "NameError",
     "evalue": "name 'CircosPlot' is not defined",
     "output_type": "error",
     "traceback": [
      "\u001b[1;31m---------------------------------------------------------------------------\u001b[0m",
      "\u001b[1;31mNameError\u001b[0m                                 Traceback (most recent call last)",
      "\u001b[1;32m<ipython-input-67-215a3854bf10>\u001b[0m in \u001b[0;36m<module>\u001b[1;34m\u001b[0m\n\u001b[0;32m      6\u001b[0m     \u001b[0medge_labels\u001b[0m\u001b[1;33m[\u001b[0m\u001b[0medge\u001b[0m\u001b[1;33m]\u001b[0m \u001b[1;33m=\u001b[0m \u001b[0mdisplay_graph\u001b[0m\u001b[1;33m[\u001b[0m\u001b[0medge\u001b[0m\u001b[1;33m[\u001b[0m\u001b[1;36m0\u001b[0m\u001b[1;33m]\u001b[0m\u001b[1;33m]\u001b[0m\u001b[1;33m[\u001b[0m\u001b[0medge\u001b[0m\u001b[1;33m[\u001b[0m\u001b[1;36m1\u001b[0m\u001b[1;33m]\u001b[0m\u001b[1;33m]\u001b[0m\u001b[1;33m[\u001b[0m\u001b[1;34m'weight'\u001b[0m\u001b[1;33m]\u001b[0m\u001b[1;33m\u001b[0m\u001b[0m\n\u001b[0;32m      7\u001b[0m \u001b[1;33m\u001b[0m\u001b[0m\n\u001b[1;32m----> 8\u001b[1;33m a = CircosPlot(display_graph, figsize=(15,15), node_color='partition', node_grouping='partition', \n\u001b[0m\u001b[0;32m      9\u001b[0m                node_order='centrality', group_label_color=True, group_label_position='middle', node_labels=True, labels=edge_labels)\n\u001b[0;32m     10\u001b[0m \u001b[1;33m\u001b[0m\u001b[0m\n",
      "\u001b[1;31mNameError\u001b[0m: name 'CircosPlot' is not defined"
     ]
    }
   ],
   "source": [
    "# Create the ArcPlot object: a\n",
    "edge_labels = {}\n",
    "\n",
    "display_graph = return_renamed_graph(similar_users_graph)\n",
    "for edge in display_graph.edges:\n",
    "    edge_labels[edge] = display_graph[edge[0]][edge[1]]['weight']\n",
    "\n",
    "a = CircosPlot(display_graph, figsize=(15,15), node_color='partition', node_grouping='partition', \n",
    "               node_order='centrality', group_label_color=True, group_label_position='middle', node_labels=True, labels=edge_labels)\n",
    "\n",
    "\n",
    "\n",
    "# edge_labels=nx.draw_networkx_edge_labels(display_graph,edge_labels=edge_labels, pos=nx.shell_layout(display_graph))\n",
    "# Draw the ArcPlot to the screen\n",
    "a.draw()\n",
    "plt.title('Most Similar Users Found')\n",
    "plt.legend()\n",
    "plt.show()"
   ]
  },
  {
   "cell_type": "markdown",
   "metadata": {},
   "source": [
    "Plot the most active users"
   ]
  },
  {
   "cell_type": "code",
   "execution_count": 68,
   "metadata": {},
   "outputs": [],
   "source": [
    "users = get_nodes_by_attribute(G, 'partition', 'users')"
   ]
  },
  {
   "cell_type": "code",
   "execution_count": 69,
   "metadata": {},
   "outputs": [],
   "source": [
    "dcs = nx.degree_centrality(G)\n",
    "for n in G.nodes():\n",
    "    G.node[n]['centrality'] = dcs[n]"
   ]
  },
  {
   "cell_type": "code",
   "execution_count": 70,
   "metadata": {},
   "outputs": [],
   "source": [
    "users = get_nodes_by_attribute(G, 'partition', 'users')\n",
    "active_user_list = []\n",
    "top_10_users = sorted(users, key=lambda x: G.node[x]['centrality'], reverse=True)[0:10]"
   ]
  },
  {
   "cell_type": "code",
   "execution_count": 71,
   "metadata": {},
   "outputs": [
    {
     "data": {
      "text/plain": [
       "['9hDFwspnyvfvhpzL7D5kqw',\n",
       " 'nNQsv90EjdkfDkUpy3l-pQ',\n",
       " 'ZZoIdkUSVc2z4RabHrTyzg',\n",
       " 'tvpEPQCfMtqDWE-jFxPwUw',\n",
       " 'DsqIqc8hQcfDci9ZlVZkJw',\n",
       " 'GTjJs9YXdq5dTcLSLJlP1Q',\n",
       " 'wRzcrtxZj7MfzQnxrsqqfg',\n",
       " '09RNYIEXPZD0vFulwZ7yFw',\n",
       " 'DrMl7kpB15peFxQkPR2F6w',\n",
       " 'Y-ONwwsfhcQezCAcwVFAZw']"
      ]
     },
     "execution_count": 71,
     "metadata": {},
     "output_type": "execute_result"
    }
   ],
   "source": [
    "top_10_users"
   ]
  },
  {
   "cell_type": "code",
   "execution_count": 72,
   "metadata": {},
   "outputs": [],
   "source": [
    "most_active_users_graph = get_nodes_and_nbrs(G, top_10_users)"
   ]
  },
  {
   "cell_type": "code",
   "execution_count": 73,
   "metadata": {},
   "outputs": [
    {
     "ename": "NameError",
     "evalue": "name 'CircosPlot' is not defined",
     "output_type": "error",
     "traceback": [
      "\u001b[1;31m---------------------------------------------------------------------------\u001b[0m",
      "\u001b[1;31mNameError\u001b[0m                                 Traceback (most recent call last)",
      "\u001b[1;32m<ipython-input-73-d496ffca2976>\u001b[0m in \u001b[0;36m<module>\u001b[1;34m\u001b[0m\n\u001b[0;32m      1\u001b[0m \u001b[1;31m# Create the ArcPlot object: a\u001b[0m\u001b[1;33m\u001b[0m\u001b[1;33m\u001b[0m\u001b[0m\n\u001b[0;32m      2\u001b[0m \u001b[1;33m\u001b[0m\u001b[0m\n\u001b[1;32m----> 3\u001b[1;33m a = CircosPlot(return_renamed_graph(most_active_users_graph), figsize=(15,15), node_color='partition', \n\u001b[0m\u001b[0;32m      4\u001b[0m                \u001b[0mnode_grouping\u001b[0m\u001b[1;33m=\u001b[0m\u001b[1;34m'partition'\u001b[0m\u001b[1;33m,\u001b[0m \u001b[0mnode_order\u001b[0m\u001b[1;33m=\u001b[0m\u001b[1;34m'centrality'\u001b[0m\u001b[1;33m,\u001b[0m \u001b[0mgroup_label_color\u001b[0m\u001b[1;33m=\u001b[0m\u001b[1;32mTrue\u001b[0m\u001b[1;33m,\u001b[0m \u001b[0mgroup_label_position\u001b[0m\u001b[1;33m=\u001b[0m\u001b[1;34m'middle'\u001b[0m\u001b[1;33m\u001b[0m\u001b[0m\n\u001b[0;32m      5\u001b[0m                , fontsize=25, node_labels=True)\n",
      "\u001b[1;31mNameError\u001b[0m: name 'CircosPlot' is not defined"
     ]
    }
   ],
   "source": [
    "# Create the ArcPlot object: a\n",
    "\n",
    "a = CircosPlot(return_renamed_graph(most_active_users_graph), figsize=(15,15), node_color='partition', \n",
    "               node_grouping='partition', node_order='centrality', group_label_color=True, group_label_position='middle'\n",
    "               , fontsize=25, node_labels=True)\n",
    "\n",
    "# Draw the ArcPlot to the screen\n",
    "a.draw()\n",
    "plt.title('Top 10 Active Users Found')\n",
    "plt.legend()\n",
    "plt.show()"
   ]
  },
  {
   "cell_type": "markdown",
   "metadata": {},
   "source": [
    "# User Similarity in Toronto"
   ]
  },
  {
   "cell_type": "markdown",
   "metadata": {},
   "source": [
    "Lets focus on Toronto and test the user similarity function in a much more restaurant dense city:"
   ]
  },
  {
   "cell_type": "code",
   "execution_count": 74,
   "metadata": {
    "scrolled": true
   },
   "outputs": [
    {
     "data": {
      "text/html": [
       "<div>\n",
       "<style scoped>\n",
       "    .dataframe tbody tr th:only-of-type {\n",
       "        vertical-align: middle;\n",
       "    }\n",
       "\n",
       "    .dataframe tbody tr th {\n",
       "        vertical-align: top;\n",
       "    }\n",
       "\n",
       "    .dataframe thead th {\n",
       "        text-align: right;\n",
       "    }\n",
       "</style>\n",
       "<table border=\"1\" class=\"dataframe\">\n",
       "  <thead>\n",
       "    <tr style=\"text-align: right;\">\n",
       "      <th></th>\n",
       "      <th>business_id</th>\n",
       "      <th>name</th>\n",
       "      <th>neighborhood</th>\n",
       "      <th>address</th>\n",
       "      <th>city</th>\n",
       "      <th>state</th>\n",
       "      <th>postal_code</th>\n",
       "      <th>latitude</th>\n",
       "      <th>longitude</th>\n",
       "      <th>stars</th>\n",
       "      <th>review_count</th>\n",
       "      <th>is_open</th>\n",
       "      <th>categories</th>\n",
       "    </tr>\n",
       "  </thead>\n",
       "  <tbody>\n",
       "    <tr>\n",
       "      <th>0</th>\n",
       "      <td>FYWN1wneV18bWNgQjJ2GNg</td>\n",
       "      <td>\"Dental by Design\"</td>\n",
       "      <td>NaN</td>\n",
       "      <td>\"4855 E Warner Rd, Ste B9\"</td>\n",
       "      <td>Ahwatukee</td>\n",
       "      <td>AZ</td>\n",
       "      <td>85044</td>\n",
       "      <td>33.330690</td>\n",
       "      <td>-111.978599</td>\n",
       "      <td>4.0</td>\n",
       "      <td>22</td>\n",
       "      <td>1</td>\n",
       "      <td>Dentists;General Dentistry;Health &amp; Medical;Or...</td>\n",
       "    </tr>\n",
       "    <tr>\n",
       "      <th>1</th>\n",
       "      <td>He-G7vWjzVUysIKrfNbPUQ</td>\n",
       "      <td>\"Stephen Szabo Salon\"</td>\n",
       "      <td>NaN</td>\n",
       "      <td>\"3101 Washington Rd\"</td>\n",
       "      <td>McMurray</td>\n",
       "      <td>PA</td>\n",
       "      <td>15317</td>\n",
       "      <td>40.291685</td>\n",
       "      <td>-80.104900</td>\n",
       "      <td>3.0</td>\n",
       "      <td>11</td>\n",
       "      <td>1</td>\n",
       "      <td>Hair Stylists;Hair Salons;Men's Hair Salons;Bl...</td>\n",
       "    </tr>\n",
       "    <tr>\n",
       "      <th>2</th>\n",
       "      <td>KQPW8lFf1y5BT2MxiSZ3QA</td>\n",
       "      <td>\"Western Motor Vehicle\"</td>\n",
       "      <td>NaN</td>\n",
       "      <td>\"6025 N 27th Ave, Ste 1\"</td>\n",
       "      <td>Phoenix</td>\n",
       "      <td>AZ</td>\n",
       "      <td>85017</td>\n",
       "      <td>33.524903</td>\n",
       "      <td>-112.115310</td>\n",
       "      <td>1.5</td>\n",
       "      <td>18</td>\n",
       "      <td>1</td>\n",
       "      <td>Departments of Motor Vehicles;Public Services ...</td>\n",
       "    </tr>\n",
       "    <tr>\n",
       "      <th>3</th>\n",
       "      <td>8DShNS-LuFqpEWIp0HxijA</td>\n",
       "      <td>\"Sports Authority\"</td>\n",
       "      <td>NaN</td>\n",
       "      <td>\"5000 Arizona Mills Cr, Ste 435\"</td>\n",
       "      <td>Tempe</td>\n",
       "      <td>AZ</td>\n",
       "      <td>85282</td>\n",
       "      <td>33.383147</td>\n",
       "      <td>-111.964725</td>\n",
       "      <td>3.0</td>\n",
       "      <td>9</td>\n",
       "      <td>0</td>\n",
       "      <td>Sporting Goods;Shopping</td>\n",
       "    </tr>\n",
       "    <tr>\n",
       "      <th>4</th>\n",
       "      <td>PfOCPjBrlQAnz__NXj9h_w</td>\n",
       "      <td>\"Brick House Tavern + Tap\"</td>\n",
       "      <td>NaN</td>\n",
       "      <td>\"581 Howe Ave\"</td>\n",
       "      <td>Cuyahoga Falls</td>\n",
       "      <td>OH</td>\n",
       "      <td>44221</td>\n",
       "      <td>41.119535</td>\n",
       "      <td>-81.475690</td>\n",
       "      <td>3.5</td>\n",
       "      <td>116</td>\n",
       "      <td>1</td>\n",
       "      <td>American (New);Nightlife;Bars;Sandwiches;Ameri...</td>\n",
       "    </tr>\n",
       "  </tbody>\n",
       "</table>\n",
       "</div>"
      ],
      "text/plain": [
       "              business_id                        name neighborhood  \\\n",
       "0  FYWN1wneV18bWNgQjJ2GNg          \"Dental by Design\"          NaN   \n",
       "1  He-G7vWjzVUysIKrfNbPUQ       \"Stephen Szabo Salon\"          NaN   \n",
       "2  KQPW8lFf1y5BT2MxiSZ3QA     \"Western Motor Vehicle\"          NaN   \n",
       "3  8DShNS-LuFqpEWIp0HxijA          \"Sports Authority\"          NaN   \n",
       "4  PfOCPjBrlQAnz__NXj9h_w  \"Brick House Tavern + Tap\"          NaN   \n",
       "\n",
       "                            address            city state postal_code  \\\n",
       "0        \"4855 E Warner Rd, Ste B9\"       Ahwatukee    AZ       85044   \n",
       "1              \"3101 Washington Rd\"        McMurray    PA       15317   \n",
       "2          \"6025 N 27th Ave, Ste 1\"         Phoenix    AZ       85017   \n",
       "3  \"5000 Arizona Mills Cr, Ste 435\"           Tempe    AZ       85282   \n",
       "4                    \"581 Howe Ave\"  Cuyahoga Falls    OH       44221   \n",
       "\n",
       "    latitude   longitude  stars  review_count  is_open  \\\n",
       "0  33.330690 -111.978599    4.0            22        1   \n",
       "1  40.291685  -80.104900    3.0            11        1   \n",
       "2  33.524903 -112.115310    1.5            18        1   \n",
       "3  33.383147 -111.964725    3.0             9        0   \n",
       "4  41.119535  -81.475690    3.5           116        1   \n",
       "\n",
       "                                          categories  \n",
       "0  Dentists;General Dentistry;Health & Medical;Or...  \n",
       "1  Hair Stylists;Hair Salons;Men's Hair Salons;Bl...  \n",
       "2  Departments of Motor Vehicles;Public Services ...  \n",
       "3                            Sporting Goods;Shopping  \n",
       "4  American (New);Nightlife;Bars;Sandwiches;Ameri...  "
      ]
     },
     "execution_count": 74,
     "metadata": {},
     "output_type": "execute_result"
    }
   ],
   "source": [
    "business_df.head()"
   ]
  },
  {
   "cell_type": "code",
   "execution_count": 75,
   "metadata": {},
   "outputs": [
    {
     "data": {
      "text/html": [
       "<div>\n",
       "<style scoped>\n",
       "    .dataframe tbody tr th:only-of-type {\n",
       "        vertical-align: middle;\n",
       "    }\n",
       "\n",
       "    .dataframe tbody tr th {\n",
       "        vertical-align: top;\n",
       "    }\n",
       "\n",
       "    .dataframe thead th {\n",
       "        text-align: right;\n",
       "    }\n",
       "</style>\n",
       "<table border=\"1\" class=\"dataframe\">\n",
       "  <thead>\n",
       "    <tr style=\"text-align: right;\">\n",
       "      <th></th>\n",
       "      <th>city</th>\n",
       "      <th>count</th>\n",
       "    </tr>\n",
       "  </thead>\n",
       "  <tbody>\n",
       "    <tr>\n",
       "      <th>0</th>\n",
       "      <td>Toronto</td>\n",
       "      <td>7148</td>\n",
       "    </tr>\n",
       "    <tr>\n",
       "      <th>1</th>\n",
       "      <td>Las Vegas</td>\n",
       "      <td>5902</td>\n",
       "    </tr>\n",
       "    <tr>\n",
       "      <th>2</th>\n",
       "      <td>Phoenix</td>\n",
       "      <td>3652</td>\n",
       "    </tr>\n",
       "    <tr>\n",
       "      <th>3</th>\n",
       "      <td>Montréal</td>\n",
       "      <td>3332</td>\n",
       "    </tr>\n",
       "    <tr>\n",
       "      <th>4</th>\n",
       "      <td>Charlotte</td>\n",
       "      <td>2461</td>\n",
       "    </tr>\n",
       "    <tr>\n",
       "      <th>5</th>\n",
       "      <td>Pittsburgh</td>\n",
       "      <td>2208</td>\n",
       "    </tr>\n",
       "    <tr>\n",
       "      <th>6</th>\n",
       "      <td>Edinburgh</td>\n",
       "      <td>1502</td>\n",
       "    </tr>\n",
       "    <tr>\n",
       "      <th>7</th>\n",
       "      <td>Scottsdale</td>\n",
       "      <td>1451</td>\n",
       "    </tr>\n",
       "    <tr>\n",
       "      <th>8</th>\n",
       "      <td>Cleveland</td>\n",
       "      <td>1364</td>\n",
       "    </tr>\n",
       "    <tr>\n",
       "      <th>9</th>\n",
       "      <td>Mississauga</td>\n",
       "      <td>1304</td>\n",
       "    </tr>\n",
       "    <tr>\n",
       "      <th>10</th>\n",
       "      <td>Mesa</td>\n",
       "      <td>1120</td>\n",
       "    </tr>\n",
       "    <tr>\n",
       "      <th>11</th>\n",
       "      <td>Stuttgart</td>\n",
       "      <td>1050</td>\n",
       "    </tr>\n",
       "    <tr>\n",
       "      <th>12</th>\n",
       "      <td>Madison</td>\n",
       "      <td>1026</td>\n",
       "    </tr>\n",
       "    <tr>\n",
       "      <th>13</th>\n",
       "      <td>Tempe</td>\n",
       "      <td>962</td>\n",
       "    </tr>\n",
       "    <tr>\n",
       "      <th>14</th>\n",
       "      <td>Chandler</td>\n",
       "      <td>819</td>\n",
       "    </tr>\n",
       "    <tr>\n",
       "      <th>15</th>\n",
       "      <td>Henderson</td>\n",
       "      <td>816</td>\n",
       "    </tr>\n",
       "    <tr>\n",
       "      <th>16</th>\n",
       "      <td>Markham</td>\n",
       "      <td>760</td>\n",
       "    </tr>\n",
       "    <tr>\n",
       "      <th>17</th>\n",
       "      <td>Glendale</td>\n",
       "      <td>666</td>\n",
       "    </tr>\n",
       "    <tr>\n",
       "      <th>18</th>\n",
       "      <td>Gilbert</td>\n",
       "      <td>524</td>\n",
       "    </tr>\n",
       "    <tr>\n",
       "      <th>19</th>\n",
       "      <td>Scarborough</td>\n",
       "      <td>516</td>\n",
       "    </tr>\n",
       "    <tr>\n",
       "      <th>20</th>\n",
       "      <td>Brampton</td>\n",
       "      <td>486</td>\n",
       "    </tr>\n",
       "    <tr>\n",
       "      <th>21</th>\n",
       "      <td>Richmond Hill</td>\n",
       "      <td>454</td>\n",
       "    </tr>\n",
       "    <tr>\n",
       "      <th>22</th>\n",
       "      <td>North York</td>\n",
       "      <td>425</td>\n",
       "    </tr>\n",
       "    <tr>\n",
       "      <th>23</th>\n",
       "      <td>Vaughan</td>\n",
       "      <td>411</td>\n",
       "    </tr>\n",
       "    <tr>\n",
       "      <th>24</th>\n",
       "      <td>Champaign</td>\n",
       "      <td>392</td>\n",
       "    </tr>\n",
       "    <tr>\n",
       "      <th>25</th>\n",
       "      <td>Peoria</td>\n",
       "      <td>342</td>\n",
       "    </tr>\n",
       "    <tr>\n",
       "      <th>26</th>\n",
       "      <td>North Las Vegas</td>\n",
       "      <td>325</td>\n",
       "    </tr>\n",
       "    <tr>\n",
       "      <th>27</th>\n",
       "      <td>Oakville</td>\n",
       "      <td>324</td>\n",
       "    </tr>\n",
       "    <tr>\n",
       "      <th>28</th>\n",
       "      <td>Concord</td>\n",
       "      <td>313</td>\n",
       "    </tr>\n",
       "    <tr>\n",
       "      <th>29</th>\n",
       "      <td>Etobicoke</td>\n",
       "      <td>283</td>\n",
       "    </tr>\n",
       "    <tr>\n",
       "      <th>...</th>\n",
       "      <td>...</td>\n",
       "      <td>...</td>\n",
       "    </tr>\n",
       "    <tr>\n",
       "      <th>50</th>\n",
       "      <td>Monroeville</td>\n",
       "      <td>115</td>\n",
       "    </tr>\n",
       "    <tr>\n",
       "      <th>51</th>\n",
       "      <td>Middleton</td>\n",
       "      <td>114</td>\n",
       "    </tr>\n",
       "    <tr>\n",
       "      <th>52</th>\n",
       "      <td>Strongsville</td>\n",
       "      <td>113</td>\n",
       "    </tr>\n",
       "    <tr>\n",
       "      <th>53</th>\n",
       "      <td>Ludwigsburg</td>\n",
       "      <td>112</td>\n",
       "    </tr>\n",
       "    <tr>\n",
       "      <th>54</th>\n",
       "      <td>Kent</td>\n",
       "      <td>111</td>\n",
       "    </tr>\n",
       "    <tr>\n",
       "      <th>55</th>\n",
       "      <td>Brossard</td>\n",
       "      <td>107</td>\n",
       "    </tr>\n",
       "    <tr>\n",
       "      <th>56</th>\n",
       "      <td>North Olmsted</td>\n",
       "      <td>105</td>\n",
       "    </tr>\n",
       "    <tr>\n",
       "      <th>57</th>\n",
       "      <td>Willoughby</td>\n",
       "      <td>99</td>\n",
       "    </tr>\n",
       "    <tr>\n",
       "      <th>58</th>\n",
       "      <td>Medina</td>\n",
       "      <td>99</td>\n",
       "    </tr>\n",
       "    <tr>\n",
       "      <th>59</th>\n",
       "      <td>Cornelius</td>\n",
       "      <td>98</td>\n",
       "    </tr>\n",
       "    <tr>\n",
       "      <th>60</th>\n",
       "      <td>Parma</td>\n",
       "      <td>93</td>\n",
       "    </tr>\n",
       "    <tr>\n",
       "      <th>61</th>\n",
       "      <td>Verdun</td>\n",
       "      <td>86</td>\n",
       "    </tr>\n",
       "    <tr>\n",
       "      <th>62</th>\n",
       "      <td>Cave Creek</td>\n",
       "      <td>84</td>\n",
       "    </tr>\n",
       "    <tr>\n",
       "      <th>63</th>\n",
       "      <td>Elyria</td>\n",
       "      <td>83</td>\n",
       "    </tr>\n",
       "    <tr>\n",
       "      <th>64</th>\n",
       "      <td>Woodbridge</td>\n",
       "      <td>81</td>\n",
       "    </tr>\n",
       "    <tr>\n",
       "      <th>65</th>\n",
       "      <td>Sindelfingen</td>\n",
       "      <td>81</td>\n",
       "    </tr>\n",
       "    <tr>\n",
       "      <th>66</th>\n",
       "      <td>Stow</td>\n",
       "      <td>79</td>\n",
       "    </tr>\n",
       "    <tr>\n",
       "      <th>67</th>\n",
       "      <td>Fountain Hills</td>\n",
       "      <td>78</td>\n",
       "    </tr>\n",
       "    <tr>\n",
       "      <th>68</th>\n",
       "      <td>Saint-Laurent</td>\n",
       "      <td>76</td>\n",
       "    </tr>\n",
       "    <tr>\n",
       "      <th>69</th>\n",
       "      <td>Böblingen</td>\n",
       "      <td>75</td>\n",
       "    </tr>\n",
       "    <tr>\n",
       "      <th>70</th>\n",
       "      <td>Sun Prairie</td>\n",
       "      <td>74</td>\n",
       "    </tr>\n",
       "    <tr>\n",
       "      <th>71</th>\n",
       "      <td>Solon</td>\n",
       "      <td>73</td>\n",
       "    </tr>\n",
       "    <tr>\n",
       "      <th>72</th>\n",
       "      <td>Coraopolis</td>\n",
       "      <td>73</td>\n",
       "    </tr>\n",
       "    <tr>\n",
       "      <th>73</th>\n",
       "      <td>Esslingen</td>\n",
       "      <td>73</td>\n",
       "    </tr>\n",
       "    <tr>\n",
       "      <th>74</th>\n",
       "      <td>Kannapolis</td>\n",
       "      <td>72</td>\n",
       "    </tr>\n",
       "    <tr>\n",
       "      <th>75</th>\n",
       "      <td>Indian Trail</td>\n",
       "      <td>72</td>\n",
       "    </tr>\n",
       "    <tr>\n",
       "      <th>76</th>\n",
       "      <td>Rocky River</td>\n",
       "      <td>70</td>\n",
       "    </tr>\n",
       "    <tr>\n",
       "      <th>77</th>\n",
       "      <td>Canonsburg</td>\n",
       "      <td>69</td>\n",
       "    </tr>\n",
       "    <tr>\n",
       "      <th>78</th>\n",
       "      <td>Cleveland Heights</td>\n",
       "      <td>67</td>\n",
       "    </tr>\n",
       "    <tr>\n",
       "      <th>79</th>\n",
       "      <td>Hudson</td>\n",
       "      <td>65</td>\n",
       "    </tr>\n",
       "  </tbody>\n",
       "</table>\n",
       "<p>80 rows × 2 columns</p>\n",
       "</div>"
      ],
      "text/plain": [
       "                 city  count\n",
       "0             Toronto   7148\n",
       "1           Las Vegas   5902\n",
       "2             Phoenix   3652\n",
       "3            Montréal   3332\n",
       "4           Charlotte   2461\n",
       "5          Pittsburgh   2208\n",
       "6           Edinburgh   1502\n",
       "7          Scottsdale   1451\n",
       "8           Cleveland   1364\n",
       "9         Mississauga   1304\n",
       "10               Mesa   1120\n",
       "11          Stuttgart   1050\n",
       "12            Madison   1026\n",
       "13              Tempe    962\n",
       "14           Chandler    819\n",
       "15          Henderson    816\n",
       "16            Markham    760\n",
       "17           Glendale    666\n",
       "18            Gilbert    524\n",
       "19        Scarborough    516\n",
       "20           Brampton    486\n",
       "21      Richmond Hill    454\n",
       "22         North York    425\n",
       "23            Vaughan    411\n",
       "24          Champaign    392\n",
       "25             Peoria    342\n",
       "26    North Las Vegas    325\n",
       "27           Oakville    324\n",
       "28            Concord    313\n",
       "29          Etobicoke    283\n",
       "..                ...    ...\n",
       "50        Monroeville    115\n",
       "51          Middleton    114\n",
       "52       Strongsville    113\n",
       "53        Ludwigsburg    112\n",
       "54               Kent    111\n",
       "55           Brossard    107\n",
       "56      North Olmsted    105\n",
       "57         Willoughby     99\n",
       "58             Medina     99\n",
       "59          Cornelius     98\n",
       "60              Parma     93\n",
       "61             Verdun     86\n",
       "62         Cave Creek     84\n",
       "63             Elyria     83\n",
       "64         Woodbridge     81\n",
       "65       Sindelfingen     81\n",
       "66               Stow     79\n",
       "67     Fountain Hills     78\n",
       "68      Saint-Laurent     76\n",
       "69          Böblingen     75\n",
       "70        Sun Prairie     74\n",
       "71              Solon     73\n",
       "72         Coraopolis     73\n",
       "73          Esslingen     73\n",
       "74         Kannapolis     72\n",
       "75       Indian Trail     72\n",
       "76        Rocky River     70\n",
       "77         Canonsburg     69\n",
       "78  Cleveland Heights     67\n",
       "79             Hudson     65\n",
       "\n",
       "[80 rows x 2 columns]"
      ]
     },
     "execution_count": 75,
     "metadata": {},
     "output_type": "execute_result"
    }
   ],
   "source": [
    "restaurant_count_by_city.head(80)"
   ]
  },
  {
   "cell_type": "code",
   "execution_count": 76,
   "metadata": {
    "scrolled": true
   },
   "outputs": [],
   "source": [
    "searchfor = ['Food', 'Restaurants']\n",
    "\n",
    "toronto_restaurants_df = business_df[(business_df['city'] == 'Mentor') & (business_df['categories'].str.contains('|'.join(searchfor)))]\n",
    "review_df = filter_data_by_ids('data/yelp_review.csv', 1000, 'business_id', toronto_restaurants_df['business_id'].values)"
   ]
  },
  {
   "cell_type": "code",
   "execution_count": 77,
   "metadata": {},
   "outputs": [],
   "source": [
    "user_df = filter_data_by_ids('data/yelp_user.csv', 500, 'user_id', review_df['user_id'].values)"
   ]
  },
  {
   "cell_type": "code",
   "execution_count": 78,
   "metadata": {},
   "outputs": [],
   "source": [
    "selected_reviews = pd.merge(review_df, user_df[['name','user_id']], on='user_id')\n",
    "selected_reviews = pd.merge(selected_reviews, toronto_restaurants_df[['name', 'business_id']], on='business_id', suffixes=('_user', '_business'))"
   ]
  },
  {
   "cell_type": "code",
   "execution_count": 79,
   "metadata": {
    "scrolled": false
   },
   "outputs": [],
   "source": [
    "[G.add_node(x[1], partition='users', name=x[9]) for x in selected_reviews.values]\n",
    "_ = [G.add_node(x[2], partition='restaurants', name=x[10]) for x in selected_reviews.values]"
   ]
  },
  {
   "cell_type": "code",
   "execution_count": 80,
   "metadata": {},
   "outputs": [],
   "source": [
    "dcs = nx.degree_centrality(G)\n",
    "for n in G.nodes():\n",
    "    G.node[n]['centrality'] = dcs[n]"
   ]
  },
  {
   "cell_type": "code",
   "execution_count": 81,
   "metadata": {},
   "outputs": [],
   "source": [
    "for index, row in selected_reviews.iterrows():\n",
    "    G.add_edge(row['user_id'], row['business_id'], weight=row['stars'], text=row['text'])"
   ]
  },
  {
   "cell_type": "code",
   "execution_count": 82,
   "metadata": {},
   "outputs": [],
   "source": [
    "for edge in G.edges(data=True):\n",
    "    if edge[2]['weight'] > 3:\n",
    "        edge[2]['color'] = 'g'\n",
    "    else:\n",
    "        edge[2]['color'] = 'r'"
   ]
  },
  {
   "cell_type": "code",
   "execution_count": 83,
   "metadata": {},
   "outputs": [],
   "source": [
    "users = get_nodes_by_attribute(G, 'partition', 'users')"
   ]
  },
  {
   "cell_type": "code",
   "execution_count": 84,
   "metadata": {},
   "outputs": [],
   "source": [
    "max_sim = {'max':0, 'user':'na', 'users':[]}\n",
    "for user in users:\n",
    "    user_similarities = most_similar_users(G, user, users, get_nodes_by_attribute(G, 'partition', 'restaurants'))\n",
    "    max_similarity_score = max(user_similarities.keys())\n",
    "    if max_similarity_score > max_sim['max']:\n",
    "        max_sim['max'] = max_similarity_score\n",
    "        max_sim['users'] = user_similarities[max_similarity_score]\n",
    "        max_sim['user'] = user"
   ]
  },
  {
   "cell_type": "code",
   "execution_count": 85,
   "metadata": {},
   "outputs": [
    {
     "data": {
      "text/plain": [
       "{'max': 0.06934306569343066,\n",
       " 'user': 'NtkMuGqcis30GjAkq91etA',\n",
       " 'users': ['kqsBiDRm1u34Q0RqN62QIA']}"
      ]
     },
     "execution_count": 85,
     "metadata": {},
     "output_type": "execute_result"
    }
   ],
   "source": [
    "max_sim"
   ]
  },
  {
   "cell_type": "code",
   "execution_count": 86,
   "metadata": {},
   "outputs": [
    {
     "data": {
      "text/plain": [
       "(2135, 22)"
      ]
     },
     "execution_count": 86,
     "metadata": {},
     "output_type": "execute_result"
    }
   ],
   "source": [
    "user_df.shape"
   ]
  },
  {
   "cell_type": "code",
   "execution_count": 87,
   "metadata": {},
   "outputs": [],
   "source": [
    "user_df['new_id'] = np.array(range(0, user_df.shape[0]))"
   ]
  },
  {
   "cell_type": "code",
   "execution_count": 88,
   "metadata": {},
   "outputs": [],
   "source": [
    "toronto_restaurants_df['new_id'] = np.array(range(0, toronto_restaurants_df.shape[0]))"
   ]
  },
  {
   "cell_type": "code",
   "execution_count": 89,
   "metadata": {},
   "outputs": [],
   "source": [
    "n_users = user_df.new_id.unique().shape[0]\n",
    "n_items = toronto_restaurants_df.new_id.unique().shape[0]"
   ]
  },
  {
   "cell_type": "code",
   "execution_count": 90,
   "metadata": {},
   "outputs": [],
   "source": [
    "selected_reviews = pd.merge(review_df, user_df[['name','user_id', 'new_id']], on='user_id')\n",
    "selected_reviews = pd.merge(selected_reviews, toronto_restaurants_df[['name', 'business_id', 'new_id']], on='business_id', suffixes=('_user', '_business'))"
   ]
  },
  {
   "cell_type": "code",
   "execution_count": 91,
   "metadata": {
    "scrolled": true
   },
   "outputs": [
    {
     "data": {
      "text/html": [
       "<div>\n",
       "<style scoped>\n",
       "    .dataframe tbody tr th:only-of-type {\n",
       "        vertical-align: middle;\n",
       "    }\n",
       "\n",
       "    .dataframe tbody tr th {\n",
       "        vertical-align: top;\n",
       "    }\n",
       "\n",
       "    .dataframe thead th {\n",
       "        text-align: right;\n",
       "    }\n",
       "</style>\n",
       "<table border=\"1\" class=\"dataframe\">\n",
       "  <thead>\n",
       "    <tr style=\"text-align: right;\">\n",
       "      <th></th>\n",
       "      <th>review_id</th>\n",
       "      <th>user_id</th>\n",
       "      <th>business_id</th>\n",
       "      <th>stars</th>\n",
       "      <th>date</th>\n",
       "      <th>text</th>\n",
       "      <th>useful</th>\n",
       "      <th>funny</th>\n",
       "      <th>cool</th>\n",
       "      <th>name_user</th>\n",
       "      <th>new_id_user</th>\n",
       "      <th>name_business</th>\n",
       "      <th>new_id_business</th>\n",
       "    </tr>\n",
       "  </thead>\n",
       "  <tbody>\n",
       "    <tr>\n",
       "      <th>0</th>\n",
       "      <td>s6FRerbyrPDJH1vv3UOBrw</td>\n",
       "      <td>DoT7ytl4SGPrhfeg-x0HvA</td>\n",
       "      <td>xaFzCJe82C4N7t4zeCo3hA</td>\n",
       "      <td>5</td>\n",
       "      <td>2017-06-18</td>\n",
       "      <td>I came for brunch with some friends with few e...</td>\n",
       "      <td>1</td>\n",
       "      <td>0</td>\n",
       "      <td>0</td>\n",
       "      <td>Luke</td>\n",
       "      <td>73</td>\n",
       "      <td>\"Fourk\"</td>\n",
       "      <td>78</td>\n",
       "    </tr>\n",
       "    <tr>\n",
       "      <th>1</th>\n",
       "      <td>p-wUbroFCSj4qHgzb7L5MA</td>\n",
       "      <td>MRE3MKcssqUN_Kgktsp6_A</td>\n",
       "      <td>xaFzCJe82C4N7t4zeCo3hA</td>\n",
       "      <td>5</td>\n",
       "      <td>2017-11-19</td>\n",
       "      <td>We stopped in early afternoon on a Sunday to g...</td>\n",
       "      <td>1</td>\n",
       "      <td>0</td>\n",
       "      <td>0</td>\n",
       "      <td>Brian</td>\n",
       "      <td>81</td>\n",
       "      <td>\"Fourk\"</td>\n",
       "      <td>78</td>\n",
       "    </tr>\n",
       "    <tr>\n",
       "      <th>2</th>\n",
       "      <td>kYDP8Low-XD0dTiJvNtmkg</td>\n",
       "      <td>OKe55-f2tvTWDDPHV5cZtA</td>\n",
       "      <td>xaFzCJe82C4N7t4zeCo3hA</td>\n",
       "      <td>3</td>\n",
       "      <td>2017-10-29</td>\n",
       "      <td>Finally got the chance to check out what  all ...</td>\n",
       "      <td>0</td>\n",
       "      <td>0</td>\n",
       "      <td>0</td>\n",
       "      <td>Leo</td>\n",
       "      <td>32</td>\n",
       "      <td>\"Fourk\"</td>\n",
       "      <td>78</td>\n",
       "    </tr>\n",
       "    <tr>\n",
       "      <th>3</th>\n",
       "      <td>hcVsvS8_yILQeYcu2hnSYQ</td>\n",
       "      <td>9PLRlTJ7NFkrRvzDklGfzw</td>\n",
       "      <td>xaFzCJe82C4N7t4zeCo3hA</td>\n",
       "      <td>4</td>\n",
       "      <td>2017-06-28</td>\n",
       "      <td>This place is just what Mentor needed...nice p...</td>\n",
       "      <td>1</td>\n",
       "      <td>0</td>\n",
       "      <td>0</td>\n",
       "      <td>Mike</td>\n",
       "      <td>125</td>\n",
       "      <td>\"Fourk\"</td>\n",
       "      <td>78</td>\n",
       "    </tr>\n",
       "    <tr>\n",
       "      <th>4</th>\n",
       "      <td>z--5h1kUHc97zP7XURbHWQ</td>\n",
       "      <td>xaVDwoPS68uIIFl9Rhl-rQ</td>\n",
       "      <td>xaFzCJe82C4N7t4zeCo3hA</td>\n",
       "      <td>5</td>\n",
       "      <td>2017-07-10</td>\n",
       "      <td>We will definitely be coming here again!  The ...</td>\n",
       "      <td>0</td>\n",
       "      <td>0</td>\n",
       "      <td>0</td>\n",
       "      <td>Tonya</td>\n",
       "      <td>282</td>\n",
       "      <td>\"Fourk\"</td>\n",
       "      <td>78</td>\n",
       "    </tr>\n",
       "  </tbody>\n",
       "</table>\n",
       "</div>"
      ],
      "text/plain": [
       "                review_id                 user_id             business_id  \\\n",
       "0  s6FRerbyrPDJH1vv3UOBrw  DoT7ytl4SGPrhfeg-x0HvA  xaFzCJe82C4N7t4zeCo3hA   \n",
       "1  p-wUbroFCSj4qHgzb7L5MA  MRE3MKcssqUN_Kgktsp6_A  xaFzCJe82C4N7t4zeCo3hA   \n",
       "2  kYDP8Low-XD0dTiJvNtmkg  OKe55-f2tvTWDDPHV5cZtA  xaFzCJe82C4N7t4zeCo3hA   \n",
       "3  hcVsvS8_yILQeYcu2hnSYQ  9PLRlTJ7NFkrRvzDklGfzw  xaFzCJe82C4N7t4zeCo3hA   \n",
       "4  z--5h1kUHc97zP7XURbHWQ  xaVDwoPS68uIIFl9Rhl-rQ  xaFzCJe82C4N7t4zeCo3hA   \n",
       "\n",
       "   stars        date                                               text  \\\n",
       "0      5  2017-06-18  I came for brunch with some friends with few e...   \n",
       "1      5  2017-11-19  We stopped in early afternoon on a Sunday to g...   \n",
       "2      3  2017-10-29  Finally got the chance to check out what  all ...   \n",
       "3      4  2017-06-28  This place is just what Mentor needed...nice p...   \n",
       "4      5  2017-07-10  We will definitely be coming here again!  The ...   \n",
       "\n",
       "   useful  funny  cool name_user  new_id_user name_business  new_id_business  \n",
       "0       1      0     0      Luke           73       \"Fourk\"               78  \n",
       "1       1      0     0     Brian           81       \"Fourk\"               78  \n",
       "2       0      0     0       Leo           32       \"Fourk\"               78  \n",
       "3       1      0     0      Mike          125       \"Fourk\"               78  \n",
       "4       0      0     0     Tonya          282       \"Fourk\"               78  "
      ]
     },
     "execution_count": 91,
     "metadata": {},
     "output_type": "execute_result"
    }
   ],
   "source": [
    "selected_reviews.head()"
   ]
  },
  {
   "cell_type": "code",
   "execution_count": 92,
   "metadata": {},
   "outputs": [
    {
     "data": {
      "text/plain": [
       "Index(['review_id', 'user_id', 'business_id', 'stars', 'date', 'text',\n",
       "       'useful', 'funny', 'cool', 'name_user', 'new_id_user', 'name_business',\n",
       "       'new_id_business'],\n",
       "      dtype='object')"
      ]
     },
     "execution_count": 92,
     "metadata": {},
     "output_type": "execute_result"
    }
   ],
   "source": [
    "selected_reviews.columns"
   ]
  },
  {
   "cell_type": "code",
   "execution_count": 93,
   "metadata": {
    "scrolled": false
   },
   "outputs": [],
   "source": [
    "data_matrix = np.zeros((n_users, n_items))\n",
    "for line in selected_reviews.itertuples():\n",
    "    data_matrix[line[11], line[13]] = line[4]"
   ]
  },
  {
   "cell_type": "code",
   "execution_count": 94,
   "metadata": {},
   "outputs": [
    {
     "data": {
      "text/plain": [
       "(2135, 196)"
      ]
     },
     "execution_count": 94,
     "metadata": {},
     "output_type": "execute_result"
    }
   ],
   "source": [
    "data_matrix.shape"
   ]
  },
  {
   "cell_type": "code",
   "execution_count": 95,
   "metadata": {},
   "outputs": [],
   "source": [
    "from sklearn.metrics.pairwise import pairwise_distances \n",
    "user_similarity = pairwise_distances(data_matrix, metric='cosine')\n",
    "item_similarity = pairwise_distances(data_matrix.T, metric='cosine')"
   ]
  },
  {
   "cell_type": "code",
   "execution_count": 96,
   "metadata": {},
   "outputs": [],
   "source": [
    "def predict(ratings, similarity, type='user'):\n",
    "    if type == 'user':\n",
    "        mean_user_rating = np.true_divide(ratings.sum(1),(ratings!=0).sum(1))\n",
    "        mean_user_rating[isnan(mean_user_rating)] = 0\n",
    "        #We use np.newaxis so that mean_user_rating has same format as ratings\n",
    "        ratings_diff = ratings - mean_user_rating[:, np.newaxis]\n",
    "        ratings_diff[ratings_diff<0] = 0\n",
    "        pred = mean_user_rating[:, np.newaxis] + similarity.dot(ratings_diff) / np.array([np.abs(similarity).sum(axis=1)]).T\n",
    "    elif type == 'item':\n",
    "        pred = ratings.dot(similarity) / np.array([np.abs(similarity).sum(axis=1)])\n",
    "    return pred\n",
    "\n",
    "def evaluate(result_matrix, hold_out_samples):\n",
    "    results = []\n",
    "    rating_data = []\n",
    "    for sample in hold_out_samples:\n",
    "        print(sample[2], result_matrix[sample[0], sample[1]])\n",
    "        if (sample[2] <= 2.5 and result_matrix[sample[0], sample[1]] <= 2.5) or (sample[2] > 2.5 and result_matrix[sample[0], sample[1]] > 2.5):\n",
    "            results.append(1)\n",
    "\n",
    "        rating_data.append((sample[2], result_matrix[sample[0], sample[1]]))\n",
    "\n",
    "    return(rating_data, sum(results)/len(hold_out_samples), result_matrix)\n",
    "\n",
    "def calculate_error(matrix, predicted):\n",
    "        xs, ys = matrix.nonzero()\n",
    "        error = 0\n",
    "        for x, y in zip(xs, ys):\n",
    "            error += pow(matrix[x, y] - predicted[x, y], 2)\n",
    "        return np.sqrt(error)\n",
    "    \n",
    "    \n",
    "def get_predicted_vs_actual(actual, predicted):\n",
    "    xs, ys = actual.nonzero()\n",
    "\n",
    "    actual_val = [actual[x, y] for x, y in zip(xs, ys)]\n",
    "    predicted_val = [predicted[x, y] for x, y in zip(xs, ys)]\n",
    "    return (actual_val, predicted_val)\n",
    "\n"
   ]
  },
  {
   "cell_type": "code",
   "execution_count": 97,
   "metadata": {},
   "outputs": [],
   "source": [
    "def get_hold_out_and_train_set(data, pct=.2):\n",
    "    num_users, num_items = data.shape\n",
    "    samples = [\n",
    "    (i, j, data[i, j])\n",
    "    for i in range(num_users)\n",
    "    for j in range(num_items)\n",
    "    if data[i, j] > 0\n",
    "    ]\n",
    "    hold_out_size = round(pct*len(samples))\n",
    "    sample_indices = list(range(len(samples)))\n",
    "    hold_out_indices = np.random.choice(sample_indices, hold_out_size, replace=False)\n",
    "\n",
    "    hold_out_data =  [sample for i, sample in enumerate(samples) if i in hold_out_indices]\n",
    "    train_data = [sample for i, sample in enumerate(samples) if i not in hold_out_indices]\n",
    "    return hold_out_data, train_data\n"
   ]
  },
  {
   "cell_type": "code",
   "execution_count": 98,
   "metadata": {
    "scrolled": true
   },
   "outputs": [],
   "source": [
    "def evaluate_hold_out(hold_out_samples, result_matrix):\n",
    "    results = []\n",
    "    rating_data=[]\n",
    "    fp = 0\n",
    "    tp = 0\n",
    "    tn = 0\n",
    "    fn = 0\n",
    "    for sample in hold_out_samples:\n",
    "        if (sample[2] <= 2.5 and result_matrix[sample[0], sample[1]] <= 2.5) or (sample[2] > 2.5 and result_matrix[sample[0], sample[1]] > 2.5):\n",
    "            results.append(1)\n",
    "        rating_data.append((sample[2], result_matrix[sample[0], sample[1]]))\n",
    "    \n",
    "    for rating, prediction in rating_data:\n",
    "        if rating < 2.5 and prediction > 2.5:\n",
    "            fp += 1\n",
    "        elif rating >2.5 and prediction > 2.5:\n",
    "            tp += 1\n",
    "        elif rating < 2.5 and prediction < 2.5:\n",
    "            tn += 1\n",
    "        else:\n",
    "            fn += 1\n",
    "\n",
    "    precision = tp/(tp+fp)\n",
    "    recall = tp/(tp+fn)\n",
    "    accuracy = sum(results)/len(hold_out_samples)\n",
    "    return(rating_data, [accuracy, precision, recall], result_matrix)\n",
    "    \n"
   ]
  },
  {
   "cell_type": "code",
   "execution_count": 118,
   "metadata": {
    "scrolled": true
   },
   "outputs": [],
   "source": [
    "#Both of these return predictions of all items for each user [[user1_rev1, user1_rev2..],[user2_rev1,...],...]\n",
    "hold_out_samples, train_samples = get_hold_out_and_train_set(data_matrix)\n",
    "\n",
    "train_matrix = np.copy(data_matrix)\n",
    "for sample in hold_out_samples:\n",
    "    train_matrix[sample[0], sample[1]] = 0.0\n",
    " \n",
    "user_prediction = predict(train_matrix, user_similarity, type='user')\n",
    "item_prediction = predict(train_matrix, item_similarity, type='item')"
   ]
  },
  {
   "cell_type": "code",
   "execution_count": 119,
   "metadata": {},
   "outputs": [
    {
     "ename": "ZeroDivisionError",
     "evalue": "division by zero",
     "output_type": "error",
     "traceback": [
      "\u001b[1;31m---------------------------------------------------------------------------\u001b[0m",
      "\u001b[1;31mZeroDivisionError\u001b[0m                         Traceback (most recent call last)",
      "\u001b[1;32m<ipython-input-119-0bd70c2e0438>\u001b[0m in \u001b[0;36m<module>\u001b[1;34m\u001b[0m\n\u001b[0;32m      1\u001b[0m \u001b[0muser_result\u001b[0m \u001b[1;33m=\u001b[0m \u001b[0mevaluate_hold_out\u001b[0m\u001b[1;33m(\u001b[0m\u001b[0mhold_out_samples\u001b[0m\u001b[1;33m,\u001b[0m \u001b[0muser_prediction\u001b[0m\u001b[1;33m)\u001b[0m\u001b[1;33m\u001b[0m\u001b[0m\n\u001b[1;32m----> 2\u001b[1;33m \u001b[0mitem_result\u001b[0m \u001b[1;33m=\u001b[0m \u001b[0mevaluate_hold_out\u001b[0m\u001b[1;33m(\u001b[0m\u001b[0mhold_out_samples\u001b[0m\u001b[1;33m,\u001b[0m \u001b[0mitem_prediction\u001b[0m\u001b[1;33m)\u001b[0m\u001b[1;33m\u001b[0m\u001b[0m\n\u001b[0m",
      "\u001b[1;32m<ipython-input-107-93c2abc92aa9>\u001b[0m in \u001b[0;36mevaluate_hold_out\u001b[1;34m(hold_out_samples, result_matrix)\u001b[0m\n\u001b[0;32m     21\u001b[0m             \u001b[0mfn\u001b[0m \u001b[1;33m+=\u001b[0m \u001b[1;36m1\u001b[0m\u001b[1;33m\u001b[0m\u001b[0m\n\u001b[0;32m     22\u001b[0m \u001b[1;33m\u001b[0m\u001b[0m\n\u001b[1;32m---> 23\u001b[1;33m     \u001b[0mprecision\u001b[0m \u001b[1;33m=\u001b[0m \u001b[0mtp\u001b[0m\u001b[1;33m/\u001b[0m\u001b[1;33m(\u001b[0m\u001b[0mtp\u001b[0m\u001b[1;33m+\u001b[0m\u001b[0mfp\u001b[0m\u001b[1;33m)\u001b[0m\u001b[1;33m\u001b[0m\u001b[0m\n\u001b[0m\u001b[0;32m     24\u001b[0m     \u001b[0mrecall\u001b[0m \u001b[1;33m=\u001b[0m \u001b[0mtp\u001b[0m\u001b[1;33m/\u001b[0m\u001b[1;33m(\u001b[0m\u001b[0mtp\u001b[0m\u001b[1;33m+\u001b[0m\u001b[0mfn\u001b[0m\u001b[1;33m)\u001b[0m\u001b[1;33m\u001b[0m\u001b[0m\n\u001b[0;32m     25\u001b[0m     \u001b[0maccuracy\u001b[0m \u001b[1;33m=\u001b[0m \u001b[0msum\u001b[0m\u001b[1;33m(\u001b[0m\u001b[0mresults\u001b[0m\u001b[1;33m)\u001b[0m\u001b[1;33m/\u001b[0m\u001b[0mlen\u001b[0m\u001b[1;33m(\u001b[0m\u001b[0mhold_out_samples\u001b[0m\u001b[1;33m)\u001b[0m\u001b[1;33m\u001b[0m\u001b[0m\n",
      "\u001b[1;31mZeroDivisionError\u001b[0m: division by zero"
     ]
    }
   ],
   "source": [
    "user_result = evaluate_hold_out(hold_out_samples, user_prediction)\n",
    "item_result = evaluate_hold_out(hold_out_samples, item_prediction)"
   ]
  },
  {
   "cell_type": "code",
   "execution_count": 116,
   "metadata": {
    "scrolled": true
   },
   "outputs": [
    {
     "data": {
      "text/plain": [
       "[0.5368289637952559, 0.7788461538461539, 0.5373134328358209]"
      ]
     },
     "execution_count": 116,
     "metadata": {},
     "output_type": "execute_result"
    }
   ],
   "source": [
    "#user similarity - [accuracy, precision, recall]\n",
    "user_result[1]"
   ]
  },
  {
   "cell_type": "code",
   "execution_count": null,
   "metadata": {},
   "outputs": [],
   "source": [
    "#item similarity - [accuracy, precision recall]\n",
    "item_result[1]"
   ]
  },
  {
   "cell_type": "code",
   "execution_count": 117,
   "metadata": {},
   "outputs": [
    {
     "data": {
      "text/plain": [
       "91.5821336441669"
      ]
     },
     "execution_count": 117,
     "metadata": {},
     "output_type": "execute_result"
    }
   ],
   "source": [
    "calculate_error(data_matrix, user_prediction)"
   ]
  },
  {
   "cell_type": "code",
   "execution_count": 103,
   "metadata": {
    "scrolled": true
   },
   "outputs": [
    {
     "data": {
      "text/plain": [
       "238.1346324450819"
      ]
     },
     "execution_count": 103,
     "metadata": {},
     "output_type": "execute_result"
    }
   ],
   "source": [
    "calculate_error(data_matrix, item_prediction)"
   ]
  },
  {
   "cell_type": "code",
   "execution_count": 104,
   "metadata": {},
   "outputs": [],
   "source": [
    "data = get_predicted_vs_actual(data_matrix, user_prediction)"
   ]
  },
  {
   "cell_type": "code",
   "execution_count": 105,
   "metadata": {},
   "outputs": [
    {
     "data": {
      "text/plain": [
       "array([[1.01539796e+00, 1.00242674e+00, 1.00086110e+00, ...,\n",
       "        1.00013814e+00, 1.00045733e+00, 1.00183180e+00],\n",
       "       [4.01517818e+00, 4.00241613e+00, 4.00072220e+00, ...,\n",
       "        4.00012008e+00, 4.00048553e+00, 4.00161182e+00],\n",
       "       [1.55822484e-02, 2.49109883e-03, 8.83938293e-04, ...,\n",
       "        1.15475145e-04, 4.48633043e-04, 1.62269583e-03],\n",
       "       ...,\n",
       "       [4.01561249e+00, 4.00243753e+00, 4.00086493e+00, ...,\n",
       "        4.00013876e+00, 4.00045936e+00, 4.00183994e+00],\n",
       "       [1.54508993e-02, 2.57055628e-03, 6.66818797e-04, ...,\n",
       "        1.12365136e-04, 4.84434206e-04, 1.60183113e-03],\n",
       "       [1.01552774e+00, 1.00242430e+00, 1.00080240e+00, ...,\n",
       "        1.00013801e+00, 1.00045687e+00, 1.00182995e+00]])"
      ]
     },
     "execution_count": 105,
     "metadata": {},
     "output_type": "execute_result"
    }
   ],
   "source": [
    "user_prediction"
   ]
  },
  {
   "cell_type": "code",
   "execution_count": 106,
   "metadata": {},
   "outputs": [
    {
     "data": {
      "image/png": "[encoded data removed]",
      "text/plain": [
       "<Figure size 1152x576 with 1 Axes>"
      ]
     },
     "metadata": {
      "needs_background": "light"
     },
     "output_type": "display_data"
    },
    {
     "data": {
      "image/png": "[encoded data removed]",
      "text/plain": [
       "<Figure size 1152x576 with 1 Axes>"
      ]
     },
     "metadata": {
      "needs_background": "light"
     },
     "output_type": "display_data"
    }
   ],
   "source": [
    "plot_fitted_vs_actual(data[0], data[1])\n",
    "plot_fitted_vs_resid(data[0], data[1])"
   ]
  },
  {
   "cell_type": "code",
   "execution_count": 107,
   "metadata": {},
   "outputs": [],
   "source": [
    "def evaluate_hold_out(hold_out_samples, result_matrix):\n",
    "    results = []\n",
    "    rating_data=[]\n",
    "    fp = 0\n",
    "    tp = 0\n",
    "    tn = 0\n",
    "    fn = 0\n",
    "    for sample in hold_out_samples:\n",
    "        if (sample[2] <= 2.5 and result_matrix[sample[0], sample[1]] <= 2.5) or (sample[2] > 2.5 and result_matrix[sample[0], sample[1]] > 2.5):\n",
    "            results.append(1)\n",
    "        rating_data.append((sample[2], result_matrix[sample[0], sample[1]]))\n",
    "    \n",
    "    for rating, prediction in rating_data:\n",
    "        if rating < 2.5 and prediction > 2.5:\n",
    "            fp += 1\n",
    "        elif rating >2.5 and prediction > 2.5:\n",
    "            tp += 1\n",
    "        elif rating < 2.5 and prediction < 2.5:\n",
    "            tn += 1\n",
    "        else:\n",
    "            fn += 1\n",
    "\n",
    "    precision = tp/(tp+fp)\n",
    "    recall = tp/(tp+fn)\n",
    "    accuracy = sum(results)/len(hold_out_samples)\n",
    "    return(rating_data, [accuracy, precision, recall], result_matrix)\n",
    "\n",
    "def get_holdout_and_train_set(data, pct=.2):\n",
    "    num_users, num_items = data.shape\n",
    "    samples = [\n",
    "    (i, j, data[i, j])\n",
    "    for i in range(num_users)\n",
    "    for j in range(num_items)\n",
    "    if data[i, j] > 0\n",
    "    ]\n",
    "    hold_out_size = round(pct*len(samples))\n",
    "    sample_indices = list(range(len(samples)))\n",
    "    hold_out_indices = np.random.choice(sample_indices, hold_out_size, replace=False)\n",
    "\n",
    "    hold_out_data =  [sample for i, sample in enumerate(samples) if i in hold_out_indices]\n",
    "    train_data = [sample for i, sample in enumerate(samples) if i not in hold_out_indices]\n",
    "    return hold_out_data, train_data\n",
    "\n",
    "\n",
    "class MF():\n",
    "\n",
    "    # Initializing the user-movie rating matrix, no. of latent features, alpha and beta.\n",
    "    def __init__(self, R, data, K, alpha, beta, iterations):\n",
    "        self.R = R\n",
    "        self.num_users, self.num_items = R.shape\n",
    "        self.K = K\n",
    "        self.alpha = alpha\n",
    "        self.beta = beta\n",
    "        self.iterations = iterations\n",
    "        self.error_log = []\n",
    "        self.iteration_log = []\n",
    "        self.hold_out_log = []\n",
    "        self.data = data\n",
    "        \n",
    "    # Initializing user-feature and movie-feature matrix \n",
    "    def train(self):\n",
    "        self.P = np.random.normal(scale=1./self.K, size=(self.num_users, self.K))\n",
    "        self.Q = np.random.normal(scale=1./self.K, size=(self.num_items, self.K))\n",
    "\n",
    "        # Initializing the bias terms\n",
    "        self.b_u = np.zeros(self.num_users)\n",
    "        self.b_i = np.zeros(self.num_items)\n",
    "        self.b = np.mean(self.R[np.where(self.R != 0)])\n",
    "\n",
    "        \n",
    "        self.samples = self.data[1]\n",
    "        self.eval_samples = self.data[0]\n",
    "        \n",
    "        training_process = []\n",
    "        for i in range(self.iterations):\n",
    "            np.random.shuffle(self.samples)\n",
    "            self.sgd()\n",
    "            mse = self.mse()\n",
    "            hold_out_acc = self.evaluate()[1][0]\n",
    "            training_process.append((i, mse))\n",
    "            if (i+1) % 20 == 0:\n",
    "                print(\"Iteration: %d ; error = %.4f ; hold-out accuracy: %4f\" % (i+1, mse, hold_out_acc))\n",
    "            self.error_log.append(mse)\n",
    "            self.hold_out_log.append(hold_out_acc)\n",
    "            self.iteration_log.append(i+1)\n",
    "        return training_process\n",
    "\n",
    "    # Computing total mean squared error\n",
    "    def mse(self):\n",
    "        xs, ys = self.R.nonzero()\n",
    "        predicted = self.full_matrix()\n",
    "        error = 0\n",
    "        for x, y in zip(xs, ys):\n",
    "            error += pow(self.R[x, y] - predicted[x, y], 2)\n",
    "        return np.sqrt(error)\n",
    "\n",
    "    # Stochastic gradient descent to get optimized P and Q matrix\n",
    "    def sgd(self):\n",
    "        for i, j, r in self.samples:\n",
    "            prediction = self.get_rating(i, j)\n",
    "            e = (r - prediction)\n",
    "\n",
    "            self.b_u[i] += self.alpha * (e - self.beta * self.b_u[i])\n",
    "            self.b_i[j] += self.alpha * (e - self.beta * self.b_i[j])\n",
    "\n",
    "            self.P[i, :] += self.alpha * (e * self.Q[j, :] - self.beta * self.P[i,:])\n",
    "            self.Q[j, :] += self.alpha * (e * self.P[i, :] - self.beta * self.Q[j,:])\n",
    "\n",
    "    # Ratings for user i and moive j\n",
    "    def get_rating(self, i, j):\n",
    "        prediction = self.b + self.b_u[i] + self.b_i[j] + self.P[i, :].dot(self.Q[j, :].T)\n",
    "        return prediction\n",
    "    \n",
    "    \n",
    "    def evaluate(self, result_matrix=None):\n",
    "        if result_matrix is None:\n",
    "            result_matrix=self.full_matrix()\n",
    "                               \n",
    "        return(evaluate_hold_out(self.eval_samples, result_matrix))\n",
    "\n",
    "    # Full user-movie rating matrix\n",
    "    def full_matrix(self):\n",
    "        return self.b + self.b_u[:,np.newaxis] + self.b_i[np.newaxis:,] + self.P.dot(self.Q.T)\n",
    "    \n",
    "    \n",
    "    def accuracy_iteration_plot(self):\n",
    "        plt.figure(figsize=(15,5))\n",
    "        set_plot_style()\n",
    "        plt.xlabel('Iteration')\n",
    "        plt.ylabel('Accuracy')\n",
    "        plt.title('Accuracy by Iteration')\n",
    "        plt.plot(self.iteration_log, self.hold_out_log)\n",
    "        plt.show()\n"
   ]
  },
  {
   "cell_type": "code",
   "execution_count": 108,
   "metadata": {
    "scrolled": false
   },
   "outputs": [
    {
     "name": "stdout",
     "output_type": "stream",
     "text": [
      "Iteration: 20 ; error = 84.5910 ; hold-out accuracy: 0.722084\n",
      "Iteration: 40 ; error = 83.6350 ; hold-out accuracy: 0.718653\n",
      "Iteration: 60 ; error = 83.7341 ; hold-out accuracy: 0.718029\n",
      "Iteration: 80 ; error = 83.8278 ; hold-out accuracy: 0.716781\n"
     ]
    }
   ],
   "source": [
    "data = (train_samples, hold_out_samples)\n",
    "mf = MF(data_matrix, data, K=20, alpha=.02, beta=.02, iterations=80)\n",
    "training_process = mf.train()\n",
    "mf_result = mf.full_matrix()"
   ]
  },
  {
   "cell_type": "code",
   "execution_count": 109,
   "metadata": {},
   "outputs": [
    {
     "name": "stdout",
     "output_type": "stream",
     "text": [
      "[0.7167810355583282, 0.7382640999662277, 0.9426476929711083]\n"
     ]
    }
   ],
   "source": [
    "#matrix factorization - [accuracy, precision, recall]\n",
    "print(mf.evaluate()[1])"
   ]
  },
  {
   "cell_type": "code",
   "execution_count": 110,
   "metadata": {},
   "outputs": [
    {
     "data": {
      "image/png": "[encoded data removed]",
      "text/plain": [
       "<Figure size 1080x360 with 1 Axes>"
      ]
     },
     "metadata": {
      "needs_background": "light"
     },
     "output_type": "display_data"
    }
   ],
   "source": [
    "mf.accuracy_iteration_plot()"
   ]
  },
  {
   "cell_type": "code",
   "execution_count": 111,
   "metadata": {},
   "outputs": [],
   "source": [
    "results = mf.evaluate()[0]\n",
    "actual = [result[0] for result in results]\n",
    "predicted = [result[1] for result in results]"
   ]
  },
  {
   "cell_type": "code",
   "execution_count": 112,
   "metadata": {
    "scrolled": true
   },
   "outputs": [
    {
     "data": {
      "image/png": "[encoded data removed]",
      "text/plain": [
       "<Figure size 1152x576 with 1 Axes>"
      ]
     },
     "metadata": {
      "needs_background": "light"
     },
     "output_type": "display_data"
    },
    {
     "data": {
      "image/png": "[encoded data removed]",
      "text/plain": [
       "<Figure size 1152x576 with 1 Axes>"
      ]
     },
     "metadata": {
      "needs_background": "light"
     },
     "output_type": "display_data"
    }
   ],
   "source": [
    "plot_fitted_vs_actual(actual, predicted)\n",
    "plot_fitted_vs_resid(actual, predicted)"
   ]
  },
  {
   "cell_type": "code",
   "execution_count": 113,
   "metadata": {},
   "outputs": [
    {
     "data": {
      "text/plain": [
       "'c:\\\\python35'"
      ]
     },
     "execution_count": 113,
     "metadata": {},
     "output_type": "execute_result"
    }
   ],
   "source": [
    "import sys, os\n",
    "os.path.dirname(sys.executable)"
   ]
  },
  {
   "cell_type": "markdown",
   "metadata": {
    "scrolled": true
   },
   "source": [
    "## Combining the results - Hybrid System"
   ]
  },
  {
   "cell_type": "code",
   "execution_count": null,
   "metadata": {},
   "outputs": [],
   "source": [
    "user_prediction"
   ]
  },
  {
   "cell_type": "code",
   "execution_count": null,
   "metadata": {},
   "outputs": [],
   "source": [
    "item_prediction"
   ]
  },
  {
   "cell_type": "code",
   "execution_count": null,
   "metadata": {},
   "outputs": [],
   "source": [
    "mf_result"
   ]
  },
  {
   "cell_type": "code",
   "execution_count": null,
   "metadata": {},
   "outputs": [],
   "source": [
    "combined_avg_prediction = (user_prediction + mf_result)/2"
   ]
  },
  {
   "cell_type": "code",
   "execution_count": null,
   "metadata": {},
   "outputs": [],
   "source": [
    "combined_avg_prediction"
   ]
  },
  {
   "cell_type": "code",
   "execution_count": null,
   "metadata": {},
   "outputs": [],
   "source": [
    "combined_result = evaluate_hold_out(hold_out_samples, combined_avg_prediction) "
   ]
  },
  {
   "cell_type": "code",
   "execution_count": null,
   "metadata": {},
   "outputs": [],
   "source": [
    "#hybrid similarity - [accuracy, precision, recall]\n",
    "combined_result[1]"
   ]
  },
  {
   "cell_type": "code",
   "execution_count": null,
   "metadata": {},
   "outputs": [],
   "source": [
    "calculate_error(data_matrix, combined_avg_prediction)"
   ]
  },
  {
   "cell_type": "code",
   "execution_count": null,
   "metadata": {
    "scrolled": true
   },
   "outputs": [],
   "source": [
    "calculate_error(data_matrix, combined_avg_prediction)"
   ]
  },
  {
   "cell_type": "code",
   "execution_count": null,
   "metadata": {},
   "outputs": [],
   "source": [
    "data = get_predicted_vs_actual(data_matrix, combined_avg_prediction)"
   ]
  },
  {
   "cell_type": "code",
   "execution_count": null,
   "metadata": {},
   "outputs": [],
   "source": [
    "plot_fitted_vs_actual(data[0], data[1])\n",
    "plot_fitted_vs_resid(data[0], data[1])"
   ]
  },
  {
   "cell_type": "markdown",
   "metadata": {},
   "source": [
    "## Sentiment analysis"
   ]
  },
  {
   "cell_type": "code",
   "execution_count": null,
   "metadata": {},
   "outputs": [],
   "source": [
    "from sklearn.model_selection import train_test_split, cross_val_score\n",
    "from sklearn.metrics import classification_report\n",
    "from sklearn.metrics import confusion_matrix, accuracy_score, roc_auc_score, roc_curve"
   ]
  },
  {
   "cell_type": "code",
   "execution_count": null,
   "metadata": {
    "scrolled": true
   },
   "outputs": [],
   "source": [
    "selected_reviews.head()\n",
    "data = selected_reviews"
   ]
  },
  {
   "cell_type": "code",
   "execution_count": null,
   "metadata": {},
   "outputs": [],
   "source": [
    "#Add a column for length of review\n",
    "data['length'] = data['text'].apply(len)"
   ]
  },
  {
   "cell_type": "code",
   "execution_count": null,
   "metadata": {
    "scrolled": true
   },
   "outputs": [],
   "source": [
    "sns.set()\n",
    "graph = sns.FacetGrid(data=data, col='stars')\n",
    "_ = graph.map(plt.hist, 'length', bins=50, color='red')"
   ]
  },
  {
   "cell_type": "code",
   "execution_count": null,
   "metadata": {},
   "outputs": [],
   "source": [
    "data.head()"
   ]
  },
  {
   "cell_type": "code",
   "execution_count": null,
   "metadata": {},
   "outputs": [],
   "source": [
    "#Classification\n",
    "\n",
    "data_classes = data[(data['stars']==1) | (data['stars']==3) | (data['stars']==5)]\n",
    "data_classes.head(50)\n",
    "print(data_classes.shape)\n",
    "\n",
    "# Seperate the dataset into X and Y for prediction\n",
    "x = data_classes['text']\n",
    "y = data_classes['stars']\n",
    "print(x.head())\n",
    "print(y.head())"
   ]
  },
  {
   "cell_type": "code",
   "execution_count": null,
   "metadata": {},
   "outputs": [],
   "source": [
    "#Removing punctuation and stopwords\n",
    "import string\n",
    "import nltk\n",
    "nltk.download('stopwords')\n",
    "from nltk.corpus import stopwords\n",
    "def process_text(text):\n",
    "    nopunc = [char for char in text if char not in string.punctuation]\n",
    "    nopunc = ''.join(nopunc)\n",
    "    return [word for word in nopunc.split() if word.lower() not in stopwords.words('english')]"
   ]
  },
  {
   "cell_type": "code",
   "execution_count": null,
   "metadata": {},
   "outputs": [],
   "source": [
    " from sklearn.feature_extraction.text import CountVectorizer\n",
    "# Vectorization\n",
    "vocab = CountVectorizer(analyzer=process_text).fit(x)\n",
    "print(len(vocab.vocabulary_))"
   ]
  },
  {
   "cell_type": "code",
   "execution_count": null,
   "metadata": {},
   "outputs": [],
   "source": [
    "vocab.vocabulary_"
   ]
  },
  {
   "cell_type": "code",
   "execution_count": null,
   "metadata": {
    "scrolled": false
   },
   "outputs": [],
   "source": [
    "x = vocab.transform(x)\n",
    "#Shape of the matrix:\n",
    "print(\"Shape of the sparse matrix: \", x.shape)\n",
    "#Non-zero occurences:\n",
    "print(\"Non-Zero occurences: \",x.nnz)\n",
    "\n",
    "# DENSITY OF THE MATRIX\n",
    "density = (x.nnz/(x.shape[0]*x.shape[1]))*100\n",
    "print(\"Density of the matrix = \",density)"
   ]
  },
  {
   "cell_type": "code",
   "execution_count": null,
   "metadata": {},
   "outputs": [],
   "source": [
    "# Split the data into test and train sets\n",
    "x_train,x_test,y_train,y_test = train_test_split(x,y,test_size=0.2,random_state=101)"
   ]
  },
  {
   "cell_type": "markdown",
   "metadata": {},
   "source": [
    "### Multinomial Naive Bayes"
   ]
  },
  {
   "cell_type": "code",
   "execution_count": null,
   "metadata": {},
   "outputs": [],
   "source": [
    "from sklearn.naive_bayes import MultinomialNB\n",
    "mnb = MultinomialNB()\n",
    "mnb.fit(x_train,y_train)\n",
    "y_pred = mnb.predict(x_test)\n",
    "print(\"Confusion Matrix for Multinomial Naive Bayes:\")\n",
    "print(confusion_matrix(y_test,y_pred))\n",
    "print(\"Score:\",round(accuracy_score(y_test,y_pred)*100,2))\n",
    "print(\"Classification Report:\",classification_report(y_test,y_pred))"
   ]
  },
  {
   "cell_type": "markdown",
   "metadata": {},
   "source": [
    "### Random Forest Classifier"
   ]
  },
  {
   "cell_type": "code",
   "execution_count": null,
   "metadata": {},
   "outputs": [],
   "source": [
    "from sklearn.ensemble import RandomForestClassifier\n",
    "rmfr = RandomForestClassifier()\n",
    "rmfr.fit(x_train,y_train)\n",
    "predrmfr = rmfr.predict(x_test)\n",
    "print(\"Confusion Matrix for Random Forest Classifier:\")\n",
    "print(confusion_matrix(y_test,y_pred))\n",
    "print(\"Score:\",round(accuracy_score(y_test,y_pred)*100,2))\n",
    "print(\"Classification Report:\",classification_report(y_test,y_pred))"
   ]
  },
  {
   "cell_type": "markdown",
   "metadata": {},
   "source": [
    "### Decision Trees"
   ]
  },
  {
   "cell_type": "code",
   "execution_count": null,
   "metadata": {},
   "outputs": [],
   "source": [
    "from sklearn.tree import DecisionTreeClassifier\n",
    "dt = DecisionTreeClassifier()\n",
    "dt.fit(x_train,y_train)\n",
    "y_pred = dt.predict(x_test)\n",
    "print(\"Confusion Matrix for Decision Tree:\")\n",
    "print(confusion_matrix(y_test,y_pred))\n",
    "print(\"Score:\",round(accuracy_score(y_test,y_pred)*100,2))\n",
    "print(\"Classification Report:\",classification_report(y_test,y_pred))"
   ]
  },
  {
   "cell_type": "markdown",
   "metadata": {},
   "source": [
    "### Gradient Boosting Classifier"
   ]
  },
  {
   "cell_type": "code",
   "execution_count": null,
   "metadata": {},
   "outputs": [],
   "source": [
    "# Gradient Boosting Classifier\n",
    "from sklearn.ensemble import GradientBoostingClassifier\n",
    "\"\"\"# parameter evaluation\n",
    "gbe = GradientBoostingClassifier(random_state=0)\n",
    "parameters = {\n",
    "     'learning_rate': [0.05, 0.1, 0.5],\n",
    "    'max_features': [0.5, 1],\n",
    "    'max_depth': [3, 4, 5]}\n",
    "gridsearch=GridSearchCV(gbe,parameters,cv=100,scoring='roc_auc')\n",
    "gridsearch.fit(x,y)\n",
    "print(gridsearch.best_params_)\n",
    "print(gridsearch.best_score_)\"\"\"\n",
    "#Boosting\n",
    "gb_clf = GradientBoostingClassifier(learning_rate=0.1,max_depth=5,max_features=0.5,random_state=999999)\n",
    "gb_clf.fit(x_train,y_train)\n",
    "y_pred = gb_clf.predict(x_test)\n",
    "print(\"Confusion Matrix for Gradient Boosting Classifier:\")\n",
    "print(confusion_matrix(y_test,y_pred))\n",
    "print(\"Score:\",round(accuracy_score(y_test,y_pred)*100,2))\n",
    "print(\"Classification Report:\",classification_report(y_test,y_pred))"
   ]
  },
  {
   "cell_type": "markdown",
   "metadata": {},
   "source": [
    "### Multilayer Perception Classifier - Best Performer :)"
   ]
  },
  {
   "cell_type": "code",
   "execution_count": null,
   "metadata": {},
   "outputs": [],
   "source": [
    "from sklearn.neural_network import MLPClassifier\n",
    "mlp = MLPClassifier()\n",
    "mlp.fit(x_train,y_train)\n",
    "y_pred = mlp.predict(x_test)\n",
    "print(\"Confusion Matrix for Multilayer Perceptron Classifier:\")\n",
    "print(confusion_matrix(y_test,y_pred))\n",
    "print(\"Score:\",round(accuracy_score(y_test,y_pred)*100,2))\n",
    "print(\"Classification Report:\")\n",
    "print(classification_report(y_test,y_pred))"
   ]
  },
  {
   "cell_type": "markdown",
   "metadata": {},
   "source": [
    "#### Making predictions with MPC - Positive Review"
   ]
  },
  {
   "cell_type": "markdown",
   "metadata": {},
   "source": [
    "pr = data['text'][0]\n",
    "print(pr)\n",
    "print(\"\\nActual Rating: \",data['stars'][0])\n",
    "pr_t = vocab.transform([pr])\n",
    "print(\"Predicted Rating: \" + str(mlp.predict(pr_t)[0]))"
   ]
  },
  {
   "cell_type": "markdown",
   "metadata": {},
   "source": [
    "#### Making predictions with MPC - Average Review"
   ]
  },
  {
   "cell_type": "code",
   "execution_count": null,
   "metadata": {},
   "outputs": [],
   "source": [
    "ar = data['text'][6]\n",
    "print(ar)\n",
    "print(\"\\nActual Rating: \",data['stars'][6])\n",
    "ar_t = vocab.transform([ar])\n",
    "print(\"Predicted Rating: \" + str(mlp.predict(ar_t)[0]))"
   ]
  },
  {
   "cell_type": "markdown",
   "metadata": {},
   "source": [
    "### Making predictions with MPC - Negative Review"
   ]
  },
  {
   "cell_type": "code",
   "execution_count": null,
   "metadata": {
    "scrolled": false
   },
   "outputs": [],
   "source": [
    "ar = data['text'][9]\n",
    "print(ar)\n",
    "print(\"\\nActual Rating: \",data['stars'][9])\n",
    "nr_t = vocab.transform([ar])\n",
    "print(\"Predicted Rating: \" + str(mlp.predict(nr_t)[0]))"
   ]
  },
  {
   "cell_type": "markdown",
   "metadata": {},
   "source": [
    "## USE AN RNN - KERAS (high level abstraction on tensor flow)"
   ]
  },
  {
   "cell_type": "code",
   "execution_count": null,
   "metadata": {},
   "outputs": [],
   "source": [
    "reviews = data['text']\n",
    "stars = data['stars']\n",
    "labels = ['1' if star >3 else '0' for star in stars]"
   ]
  },
  {
   "cell_type": "code",
   "execution_count": null,
   "metadata": {},
   "outputs": [],
   "source": [
    "import string, re\n",
    "\n",
    "def clean_up_text(text):\n",
    "    punctuation = string.punctuation + '\\n\\n'\n",
    "    punc_replace = ''.join([' ' for s in punctuation])\n",
    "    text_clean = text.replace('-', ' ')\n",
    "    text_alphas = re.sub(r'\\W +', '', text_clean)\n",
    "    trans_table = str.maketrans(punctuation, punc_replace)\n",
    "    text_clean = ' '.join([word.translate(trans_table) for word in text_alphas.split(' ')]);\n",
    "    text_clean = text_clean.split(' ')\n",
    "    text_clean = [word.lower() for word in text_clean if len(word) > 0]\n",
    "    \n",
    "    return text_clean;\n",
    "\n",
    "# Generate a cleaned reviews array from original review texts\n",
    "reviews_cleaned = [clean_up_text(review) for review in reviews]\n",
    "reviews = [' '.join(review) for review in reviews_cleaned]"
   ]
  },
  {
   "cell_type": "code",
   "execution_count": null,
   "metadata": {
    "scrolled": true
   },
   "outputs": [],
   "source": [
    "# Use a Keras Tokenizer and fit on the sentences\n",
    "from keras.preprocessing.text import Tokenizer\n",
    "tokenizer = Tokenizer();\n",
    "tokenizer.fit_on_texts(reviews);\n",
    "text_sequences = np.array(tokenizer.texts_to_sequences(reviews));\n",
    "word_sequence_dict = tokenizer.word_index;\n",
    "word_dict = dict((num, val) for (val, num) in word_sequence_dict.items());\n",
    "\n",
    "# We get a map of encoding-to-word in sequence_dict\n",
    "\n",
    "# Generate encoded reviews\n",
    "reviews_encoded = [];\n",
    "for i,review in enumerate(reviews_cleaned):\n",
    "    reviews_encoded.append([word_sequence_dict[x] for x in review]);\n",
    "    \n",
    "# Plot a Histogram of length of reviews\n",
    "lengths = [len(x) for x in reviews_encoded];\n",
    "with plt.xkcd():\n",
    "    plt.hist(lengths, bins=range(100))"
   ]
  },
  {
   "cell_type": "code",
   "execution_count": null,
   "metadata": {},
   "outputs": [],
   "source": [
    "from keras.preprocessing.sequence import pad_sequences\n",
    "# Truncate and Pad reviews at a Maximum cap of 60 words.\n",
    "max_cap = 50;\n",
    "X = pad_sequences(reviews_encoded, maxlen=max_cap, truncating='post')\n",
    "\n",
    "# Obtain a One-hot Y array for each review label.\n",
    "Y = np.array([[0,1] if '0' in label else [1,0] for label in labels])\n",
    "\n",
    "# Get a randomized sequence of positions to shuffle reviews\n",
    "random_posits = np.arange(len(X))\n",
    "np.random.shuffle(random_posits);\n",
    "\n",
    "# Shuffle X and Y\n",
    "X = X[random_posits];\n",
    "Y = Y[random_posits];\n",
    "\n",
    "# Divide the reviews into Training, Dev, and Test data.\n",
    "train_cap = int(0.85 * len(X));\n",
    "dev_cap = int(0.93 * len(X));\n",
    "\n",
    "X_train, Y_train = X[:train_cap], Y[:train_cap];\n",
    "X_dev, Y_dev = X[train_cap:dev_cap], Y[train_cap:dev_cap];\n",
    "X_test, Y_test = X[dev_cap:], Y[dev_cap:]"
   ]
  },
  {
   "cell_type": "markdown",
   "metadata": {},
   "source": [
    "### Training the Model"
   ]
  },
  {
   "cell_type": "code",
   "execution_count": null,
   "metadata": {
    "scrolled": false
   },
   "outputs": [],
   "source": [
    "import tensorflow"
   ]
  },
  {
   "cell_type": "code",
   "execution_count": null,
   "metadata": {},
   "outputs": [],
   "source": [
    "import sys\n",
    "print(sys.version)"
   ]
  },
  {
   "cell_type": "code",
   "execution_count": null,
   "metadata": {
    "scrolled": true
   },
   "outputs": [],
   "source": [
    "import tensorflow\n",
    "from keras.models import Sequential\n",
    "from keras.layers import Dense, Activation, Embedding\n",
    "from keras.layers import LSTM, Dropout\n",
    "from keras.optimizers import Adam"
   ]
  },
  {
   "cell_type": "code",
   "execution_count": null,
   "metadata": {},
   "outputs": [],
   "source": [
    "for row_idx, row in enumerate(X_dev):\n",
    "    for idx, value in enumerate(row):\n",
    "        if value > 35300:\n",
    "            print(word_dict[value], row_idx, idx)"
   ]
  },
  {
   "cell_type": "code",
   "execution_count": null,
   "metadata": {
    "scrolled": true
   },
   "outputs": [],
   "source": [
    "model = Sequential();\n",
    "model.add(Embedding(len(word_dict)+1, max_cap, input_length=max_cap));\n",
    "model.add(LSTM(100, return_sequences=True));\n",
    "model.add(LSTM(100));\n",
    "model.add(Dense(100, activation='relu'));\n",
    "model.add(Dense(2, activation='softmax'));\n",
    "print(model.summary());\n",
    "\n",
    "optimizer = Adam(lr=0.001, decay=0.0001);\n",
    "model.compile(loss='binary_crossentropy', optimizer=optimizer, metrics=['accuracy'])\n",
    "# fit model\n",
    "history = model.fit(X_train, Y_train, batch_size=80, epochs=10, validation_data=(X_dev, Y_dev))"
   ]
  },
  {
   "cell_type": "code",
   "execution_count": null,
   "metadata": {},
   "outputs": [],
   "source": [
    "\n",
    "# Plot training & validation accuracy values\n",
    "plt.plot(history.history['acc'])\n",
    "plt.plot(history.history['val_acc'])\n",
    "plt.title('Model accuracy')\n",
    "plt.ylabel('Accuracy')\n",
    "plt.xlabel('Epoch')\n",
    "plt.legend(['Train', 'Test'], loc='upper left')\n",
    "plt.show()\n",
    "\n",
    "# Plot training & validation loss values\n",
    "plt.plot(history.history['loss'])\n",
    "plt.plot(history.history['val_loss'])\n",
    "plt.title('Model loss')\n",
    "plt.ylabel('Loss')\n",
    "plt.xlabel('Epoch')\n",
    "plt.legend(['Train', 'Test'], loc='upper left')\n",
    "plt.show()"
   ]
  },
  {
   "cell_type": "code",
   "execution_count": null,
   "metadata": {},
   "outputs": [],
   "source": [
    "\n",
    "model = Sequential();\n",
    "model.add(Embedding(len(word_dict)+1, max_cap, input_length=max_cap));\n",
    "model.add(LSTM(60, return_sequences=True, recurrent_dropout=0.5));\n",
    "model.add(Dropout(0.5))\n",
    "model.add(LSTM(60, recurrent_dropout=0.5));\n",
    "model.add(Dense(60, activation='relu'));\n",
    "model.add(Dense(2, activation='softmax'));\n",
    "print(model.summary());\n",
    "\n",
    "optimizer = Adam(lr=0.01, decay=0.001);\n",
    "model.compile(loss='binary_crossentropy', optimizer=optimizer, metrics=['accuracy'])\n",
    "# fit model\n",
    "history_w_reg = model.fit(X_train, Y_train, batch_size=64, epochs=10, validation_data=(X_dev, Y_dev))"
   ]
  },
  {
   "cell_type": "code",
   "execution_count": null,
   "metadata": {},
   "outputs": [],
   "source": [
    "\n",
    "# Plot training & validation accuracy values\n",
    "plt.plot(history_w_reg.history['acc'])\n",
    "plt.plot(history_w_reg.history['val_acc'])\n",
    "plt.title('Model accuracy')\n",
    "plt.ylabel('Accuracy')\n",
    "plt.xlabel('Epoch')\n",
    "plt.legend(['Train', 'Test'], loc='upper left')\n",
    "plt.show()\n",
    "\n",
    "# Plot training & validation loss values\n",
    "plt.plot(history_w_reg.history['loss'])\n",
    "plt.plot(history_w_reg.history['val_loss'])\n",
    "plt.title('Model loss')\n",
    "plt.ylabel('Loss')\n",
    "plt.xlabel('Epoch')\n",
    "plt.legend(['Train', 'Test'], loc='upper left')\n",
    "plt.show()"
   ]
  },
  {
   "cell_type": "code",
   "execution_count": null,
   "metadata": {},
   "outputs": [],
   "source": [
    "embeddings_index = dict();\n",
    "with open('data/glove.6B.100d.txt', encoding='utf-8') as f:\n",
    "    for line in f:\n",
    "        values = line.split();\n",
    "        word = values[0];\n",
    "        coefs = np.asarray(values[1:], dtype='float32');\n",
    "        embeddings_index[word] = coefs;\n",
    "        \n",
    "vocab_size = len(sequence_dict);\n",
    "embeddings_matrix = np.zeros((vocab_size, 100));\n",
    "for word, i in sequence_dict.items():\n",
    "    embedding_vector = embeddings_index.get(word);\n",
    "    if embedding_vector is not None:\n",
    "        embeddings_matrix[i] = embedding_vector;"
   ]
  },
  {
   "cell_type": "code",
   "execution_count": null,
   "metadata": {},
   "outputs": [],
   "source": [
    "from keras.preprocessing.sequence import pad_sequences\n",
    "# Truncate and Pad reviews at a Maximum cap of 60 words.\n",
    "max_cap = 100;\n",
    "X = pad_sequences(reviews_encoded, maxlen=max_cap, truncating='post')\n",
    "\n",
    "# Obtain a One-hot Y array for each review label.\n",
    "Y = np.array([[0,1] if '0' in label else [1,0] for label in labels])\n",
    "\n",
    "# Get a randomized sequence of positions to shuffle reviews\n",
    "random_posits = np.arange(len(X))\n",
    "np.random.shuffle(random_posits);\n",
    "\n",
    "# Shuffle X and Y\n",
    "X = X[random_posits];\n",
    "Y = Y[random_posits];\n",
    "\n",
    "# Divide the reviews into Training, Dev, and Test data.\n",
    "train_cap = int(0.85 * len(X));\n",
    "dev_cap = int(0.93 * len(X));\n",
    "\n",
    "X_train, Y_train = X[:train_cap], Y[:train_cap];\n",
    "X_dev, Y_dev = X[train_cap:dev_cap], Y[train_cap:dev_cap];\n",
    "X_test, Y_test = X[dev_cap:], Y[dev_cap:]"
   ]
  },
  {
   "cell_type": "code",
   "execution_count": null,
   "metadata": {},
   "outputs": [],
   "source": [
    "embeddings_matrix.shape"
   ]
  },
  {
   "cell_type": "code",
   "execution_count": null,
   "metadata": {},
   "outputs": [],
   "source": [
    "\n",
    "model = Sequential();\n",
    "model.add(Embedding(len(word_dict)+1, max_cap, input_length=max_cap, weights=[embeddings_matrix], trainable=False));\n",
    "model.add(LSTM(60, return_sequences=True, recurrent_dropout=0.5));\n",
    "model.add(Dropout(0.5))\n",
    "model.add(LSTM(60, recurrent_dropout=0.5));\n",
    "model.add(Dense(60, activation='relu'));\n",
    "model.add(Dense(2, activation='softmax'));\n",
    "print(model.summary());\n",
    "\n",
    "optimizer = Adam(lr=0.01, decay=0.001);\n",
    "model.compile(loss='binary_crossentropy', optimizer=optimizer, metrics=['accuracy'])\n",
    "# fit model\n",
    "history = model.fit(X_train, Y_train, batch_size=64, epochs=10, validation_data=(X_dev, Y_dev))"
   ]
  },
  {
   "cell_type": "code",
   "execution_count": null,
   "metadata": {},
   "outputs": [],
   "source": []
  },
  {
   "cell_type": "code",
   "execution_count": null,
   "metadata": {},
   "outputs": [],
   "source": [
    "from numpy import array\n",
    "from keras.preprocessing.text import one_hot\n",
    "from keras.preprocessing.sequence import pad_sequences\n",
    "from keras.models import Sequential\n",
    "from keras.layers import Dense\n",
    "from keras.layers import Flatten\n",
    "from keras.layers.embeddings import Embedding\n",
    "# define documents\n",
    "docs = ['Well done!',\n",
    "\t\t'Good work',\n",
    "\t\t'Great effort',\n",
    "\t\t'nice work',\n",
    "\t\t'Excellent!',\n",
    "\t\t'Weak',\n",
    "\t\t'Poor effort!',\n",
    "\t\t'not good',\n",
    "\t\t'poor work',\n",
    "\t\t'Could have done better.']\n",
    "# define class labels\n",
    "labels = array([1,1,1,1,1,0,0,0,0,0])\n",
    "# integer encode the documents\n",
    "vocab_size = 50\n",
    "encoded_docs = [one_hot(d, vocab_size) for d in docs]\n",
    "print(encoded_docs)\n",
    "# pad documents to a max length of 4 words\n",
    "max_length = 4\n",
    "padded_docs = pad_sequences(encoded_docs, maxlen=max_length, padding='post')\n",
    "print(padded_docs)\n",
    "# define the model\n",
    "model = Sequential()\n",
    "model.add(Embedding(vocab_size, 8, input_length=max_length))\n",
    "model.add(Flatten())\n",
    "model.add(Dense(1, activation='sigmoid'))\n",
    "# compile the model\n",
    "model.compile(optimizer='adam', loss='binary_crossentropy', metrics=['acc'])\n",
    "# summarize the model\n",
    "print(model.summary())\n",
    "# fit the model\n",
    "\n",
    "\n",
    "\n",
    "model.fit(padded_docs, labels, epochs=50, verbose=0)\n",
    "# evaluate the model\n",
    "loss, accuracy = model.evaluate(padded_docs, labels, verbose=0)\n",
    "print('Accuracy: %f' % (accuracy*100))"
   ]
  },
  {
   "cell_type": "code",
   "execution_count": null,
   "metadata": {},
   "outputs": [],
   "source": []
  },
  {
   "cell_type": "code",
   "execution_count": null,
   "metadata": {},
   "outputs": [],
   "source": []
  },
  {
   "cell_type": "code",
   "execution_count": null,
   "metadata": {},
   "outputs": [],
   "source": []
  },
  {
   "cell_type": "code",
   "execution_count": null,
   "metadata": {},
   "outputs": [],
   "source": []
  },
  {
   "cell_type": "code",
   "execution_count": null,
   "metadata": {},
   "outputs": [],
   "source": []
  },
  {
   "cell_type": "code",
   "execution_count": null,
   "metadata": {},
   "outputs": [],
   "source": []
  },
  {
   "cell_type": "code",
   "execution_count": null,
   "metadata": {},
   "outputs": [],
   "source": []
  },
  {
   "cell_type": "code",
   "execution_count": null,
   "metadata": {},
   "outputs": [],
   "source": []
  },
  {
   "cell_type": "code",
   "execution_count": null,
   "metadata": {},
   "outputs": [],
   "source": []
  },
  {
   "cell_type": "code",
   "execution_count": null,
   "metadata": {},
   "outputs": [],
   "source": []
  },
  {
   "cell_type": "code",
   "execution_count": null,
   "metadata": {},
   "outputs": [],
   "source": []
  },
  {
   "cell_type": "code",
   "execution_count": null,
   "metadata": {},
   "outputs": [],
   "source": []
  },
  {
   "cell_type": "code",
   "execution_count": null,
   "metadata": {},
   "outputs": [],
   "source": []
  },
  {
   "cell_type": "code",
   "execution_count": null,
   "metadata": {},
   "outputs": [],
   "source": []
  },
  {
   "cell_type": "code",
   "execution_count": null,
   "metadata": {},
   "outputs": [],
   "source": []
  },
  {
   "cell_type": "code",
   "execution_count": null,
   "metadata": {},
   "outputs": [],
   "source": []
  },
  {
   "cell_type": "code",
   "execution_count": null,
   "metadata": {},
   "outputs": [],
   "source": []
  },
  {
   "cell_type": "code",
   "execution_count": null,
   "metadata": {},
   "outputs": [],
   "source": []
  },
  {
   "cell_type": "code",
   "execution_count": null,
   "metadata": {},
   "outputs": [],
   "source": []
  },
  {
   "cell_type": "code",
   "execution_count": null,
   "metadata": {},
   "outputs": [],
   "source": []
  },
  {
   "cell_type": "code",
   "execution_count": null,
   "metadata": {},
   "outputs": [],
   "source": []
  },
  {
   "cell_type": "code",
   "execution_count": null,
   "metadata": {},
   "outputs": [],
   "source": []
  },
  {
   "cell_type": "code",
   "execution_count": null,
   "metadata": {},
   "outputs": [],
   "source": []
  },
  {
   "cell_type": "code",
   "execution_count": null,
   "metadata": {},
   "outputs": [],
   "source": []
  }
 ],
 "metadata": {
  "kernelspec": {
   "display_name": "yelp_tensor",
   "language": "python",
   "name": "yelp_tensor"
  },
  "language_info": {
   "codemirror_mode": {
    "name": "ipython",
    "version": 3
   },
   "file_extension": ".py",
   "mimetype": "text/x-python",
   "name": "python",
   "nbconvert_exporter": "python",
   "pygments_lexer": "ipython3",
   "version": "3.5.4"
  }
 },
 "nbformat": 4,
 "nbformat_minor": 2
}
